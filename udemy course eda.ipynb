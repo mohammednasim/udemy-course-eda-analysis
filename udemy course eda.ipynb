{
 "cells": [
  {
   "cell_type": "markdown",
   "id": "ab593827",
   "metadata": {},
   "source": [
    "# udemy course eda "
   ]
  },
  {
   "cell_type": "code",
   "execution_count": 2,
   "id": "69413842",
   "metadata": {},
   "outputs": [],
   "source": [
    "import pandas as pd\n",
    "import numpy as np\n",
    "import seaborn as sns\n",
    "import matplotlib.pyplot as plt\n",
    "sns.set()"
   ]
  },
  {
   "cell_type": "code",
   "execution_count": 3,
   "id": "b66575ed",
   "metadata": {},
   "outputs": [],
   "source": [
    "#data reading\n",
    "udemy = pd.read_csv('udemy_output_All_Finance__Accounting_p1_p626.csv')"
   ]
  },
  {
   "cell_type": "code",
   "execution_count": 4,
   "id": "6fbdd0cb",
   "metadata": {},
   "outputs": [
    {
     "data": {
      "text/html": [
       "<div>\n",
       "<style scoped>\n",
       "    .dataframe tbody tr th:only-of-type {\n",
       "        vertical-align: middle;\n",
       "    }\n",
       "\n",
       "    .dataframe tbody tr th {\n",
       "        vertical-align: top;\n",
       "    }\n",
       "\n",
       "    .dataframe thead th {\n",
       "        text-align: right;\n",
       "    }\n",
       "</style>\n",
       "<table border=\"1\" class=\"dataframe\">\n",
       "  <thead>\n",
       "    <tr style=\"text-align: right;\">\n",
       "      <th></th>\n",
       "      <th>id</th>\n",
       "      <th>title</th>\n",
       "      <th>url</th>\n",
       "      <th>is_paid</th>\n",
       "      <th>num_subscribers</th>\n",
       "      <th>avg_rating</th>\n",
       "      <th>avg_rating_recent</th>\n",
       "      <th>rating</th>\n",
       "      <th>num_reviews</th>\n",
       "      <th>is_wishlisted</th>\n",
       "      <th>num_published_lectures</th>\n",
       "      <th>num_published_practice_tests</th>\n",
       "      <th>created</th>\n",
       "      <th>published_time</th>\n",
       "      <th>discount_price__amount</th>\n",
       "      <th>discount_price__currency</th>\n",
       "      <th>discount_price__price_string</th>\n",
       "      <th>price_detail__amount</th>\n",
       "      <th>price_detail__currency</th>\n",
       "      <th>price_detail__price_string</th>\n",
       "    </tr>\n",
       "  </thead>\n",
       "  <tbody>\n",
       "    <tr>\n",
       "      <th>0</th>\n",
       "      <td>762616</td>\n",
       "      <td>The Complete SQL Bootcamp 2020: Go from Zero t...</td>\n",
       "      <td>/course/the-complete-sql-bootcamp/</td>\n",
       "      <td>True</td>\n",
       "      <td>295509</td>\n",
       "      <td>4.66019</td>\n",
       "      <td>4.67874</td>\n",
       "      <td>4.67874</td>\n",
       "      <td>78006</td>\n",
       "      <td>False</td>\n",
       "      <td>84</td>\n",
       "      <td>0</td>\n",
       "      <td>2016-02-14T22:57:48Z</td>\n",
       "      <td>2016-04-06T05:16:11Z</td>\n",
       "      <td>455.0</td>\n",
       "      <td>INR</td>\n",
       "      <td>₹455</td>\n",
       "      <td>8640.0</td>\n",
       "      <td>INR</td>\n",
       "      <td>₹8,640</td>\n",
       "    </tr>\n",
       "    <tr>\n",
       "      <th>1</th>\n",
       "      <td>937678</td>\n",
       "      <td>Tableau 2020 A-Z: Hands-On Tableau Training fo...</td>\n",
       "      <td>/course/tableau10/</td>\n",
       "      <td>True</td>\n",
       "      <td>209070</td>\n",
       "      <td>4.58956</td>\n",
       "      <td>4.60015</td>\n",
       "      <td>4.60015</td>\n",
       "      <td>54581</td>\n",
       "      <td>False</td>\n",
       "      <td>78</td>\n",
       "      <td>0</td>\n",
       "      <td>2016-08-22T12:10:18Z</td>\n",
       "      <td>2016-08-23T16:59:49Z</td>\n",
       "      <td>455.0</td>\n",
       "      <td>INR</td>\n",
       "      <td>₹455</td>\n",
       "      <td>8640.0</td>\n",
       "      <td>INR</td>\n",
       "      <td>₹8,640</td>\n",
       "    </tr>\n",
       "    <tr>\n",
       "      <th>2</th>\n",
       "      <td>1361790</td>\n",
       "      <td>PMP Exam Prep Seminar -  PMBOK Guide 6</td>\n",
       "      <td>/course/pmp-pmbok6-35-pdus/</td>\n",
       "      <td>True</td>\n",
       "      <td>155282</td>\n",
       "      <td>4.59491</td>\n",
       "      <td>4.59326</td>\n",
       "      <td>4.59326</td>\n",
       "      <td>52653</td>\n",
       "      <td>False</td>\n",
       "      <td>292</td>\n",
       "      <td>2</td>\n",
       "      <td>2017-09-26T16:32:48Z</td>\n",
       "      <td>2017-11-14T23:58:14Z</td>\n",
       "      <td>455.0</td>\n",
       "      <td>INR</td>\n",
       "      <td>₹455</td>\n",
       "      <td>8640.0</td>\n",
       "      <td>INR</td>\n",
       "      <td>₹8,640</td>\n",
       "    </tr>\n",
       "    <tr>\n",
       "      <th>3</th>\n",
       "      <td>648826</td>\n",
       "      <td>The Complete Financial Analyst Course 2020</td>\n",
       "      <td>/course/the-complete-financial-analyst-course/</td>\n",
       "      <td>True</td>\n",
       "      <td>245860</td>\n",
       "      <td>4.54407</td>\n",
       "      <td>4.53772</td>\n",
       "      <td>4.53772</td>\n",
       "      <td>46447</td>\n",
       "      <td>False</td>\n",
       "      <td>338</td>\n",
       "      <td>0</td>\n",
       "      <td>2015-10-23T13:34:35Z</td>\n",
       "      <td>2016-01-21T01:38:48Z</td>\n",
       "      <td>455.0</td>\n",
       "      <td>INR</td>\n",
       "      <td>₹455</td>\n",
       "      <td>8640.0</td>\n",
       "      <td>INR</td>\n",
       "      <td>₹8,640</td>\n",
       "    </tr>\n",
       "    <tr>\n",
       "      <th>4</th>\n",
       "      <td>637930</td>\n",
       "      <td>An Entire MBA in 1 Course:Award Winning Busine...</td>\n",
       "      <td>/course/an-entire-mba-in-1-courseaward-winning...</td>\n",
       "      <td>True</td>\n",
       "      <td>374836</td>\n",
       "      <td>4.47080</td>\n",
       "      <td>4.47173</td>\n",
       "      <td>4.47173</td>\n",
       "      <td>41630</td>\n",
       "      <td>False</td>\n",
       "      <td>83</td>\n",
       "      <td>0</td>\n",
       "      <td>2015-10-12T06:39:46Z</td>\n",
       "      <td>2016-01-11T21:39:33Z</td>\n",
       "      <td>455.0</td>\n",
       "      <td>INR</td>\n",
       "      <td>₹455</td>\n",
       "      <td>8640.0</td>\n",
       "      <td>INR</td>\n",
       "      <td>₹8,640</td>\n",
       "    </tr>\n",
       "  </tbody>\n",
       "</table>\n",
       "</div>"
      ],
      "text/plain": [
       "        id                                              title  \\\n",
       "0   762616  The Complete SQL Bootcamp 2020: Go from Zero t...   \n",
       "1   937678  Tableau 2020 A-Z: Hands-On Tableau Training fo...   \n",
       "2  1361790             PMP Exam Prep Seminar -  PMBOK Guide 6   \n",
       "3   648826         The Complete Financial Analyst Course 2020   \n",
       "4   637930  An Entire MBA in 1 Course:Award Winning Busine...   \n",
       "\n",
       "                                                 url  is_paid  \\\n",
       "0                 /course/the-complete-sql-bootcamp/     True   \n",
       "1                                 /course/tableau10/     True   \n",
       "2                        /course/pmp-pmbok6-35-pdus/     True   \n",
       "3     /course/the-complete-financial-analyst-course/     True   \n",
       "4  /course/an-entire-mba-in-1-courseaward-winning...     True   \n",
       "\n",
       "   num_subscribers  avg_rating  avg_rating_recent   rating  num_reviews  \\\n",
       "0           295509     4.66019            4.67874  4.67874        78006   \n",
       "1           209070     4.58956            4.60015  4.60015        54581   \n",
       "2           155282     4.59491            4.59326  4.59326        52653   \n",
       "3           245860     4.54407            4.53772  4.53772        46447   \n",
       "4           374836     4.47080            4.47173  4.47173        41630   \n",
       "\n",
       "   is_wishlisted  num_published_lectures  num_published_practice_tests  \\\n",
       "0          False                      84                             0   \n",
       "1          False                      78                             0   \n",
       "2          False                     292                             2   \n",
       "3          False                     338                             0   \n",
       "4          False                      83                             0   \n",
       "\n",
       "                created        published_time  discount_price__amount  \\\n",
       "0  2016-02-14T22:57:48Z  2016-04-06T05:16:11Z                   455.0   \n",
       "1  2016-08-22T12:10:18Z  2016-08-23T16:59:49Z                   455.0   \n",
       "2  2017-09-26T16:32:48Z  2017-11-14T23:58:14Z                   455.0   \n",
       "3  2015-10-23T13:34:35Z  2016-01-21T01:38:48Z                   455.0   \n",
       "4  2015-10-12T06:39:46Z  2016-01-11T21:39:33Z                   455.0   \n",
       "\n",
       "  discount_price__currency discount_price__price_string  price_detail__amount  \\\n",
       "0                      INR                         ₹455                8640.0   \n",
       "1                      INR                         ₹455                8640.0   \n",
       "2                      INR                         ₹455                8640.0   \n",
       "3                      INR                         ₹455                8640.0   \n",
       "4                      INR                         ₹455                8640.0   \n",
       "\n",
       "  price_detail__currency price_detail__price_string  \n",
       "0                    INR                     ₹8,640  \n",
       "1                    INR                     ₹8,640  \n",
       "2                    INR                     ₹8,640  \n",
       "3                    INR                     ₹8,640  \n",
       "4                    INR                     ₹8,640  "
      ]
     },
     "execution_count": 4,
     "metadata": {},
     "output_type": "execute_result"
    }
   ],
   "source": [
    "udemy.head()"
   ]
  },
  {
   "cell_type": "code",
   "execution_count": 6,
   "id": "7d4dfff3",
   "metadata": {},
   "outputs": [
    {
     "data": {
      "text/plain": [
       "Index(['id', 'title', 'url', 'is_paid', 'num_subscribers', 'avg_rating',\n",
       "       'avg_rating_recent', 'rating', 'num_reviews', 'is_wishlisted',\n",
       "       'num_published_lectures', 'num_published_practice_tests', 'created',\n",
       "       'published_time', 'discount_price__amount', 'discount_price__currency',\n",
       "       'discount_price__price_string', 'price_detail__amount',\n",
       "       'price_detail__currency', 'price_detail__price_string'],\n",
       "      dtype='object')"
      ]
     },
     "execution_count": 6,
     "metadata": {},
     "output_type": "execute_result"
    }
   ],
   "source": [
    "udemy.columns"
   ]
  },
  {
   "cell_type": "code",
   "execution_count": 7,
   "id": "5dde24f9",
   "metadata": {},
   "outputs": [
    {
     "data": {
      "text/plain": [
       "(13608, 20)"
      ]
     },
     "execution_count": 7,
     "metadata": {},
     "output_type": "execute_result"
    }
   ],
   "source": [
    "udemy.shape"
   ]
  },
  {
   "cell_type": "code",
   "execution_count": 8,
   "id": "127c22a5",
   "metadata": {},
   "outputs": [
    {
     "name": "stdout",
     "output_type": "stream",
     "text": [
      "<class 'pandas.core.frame.DataFrame'>\n",
      "RangeIndex: 13608 entries, 0 to 13607\n",
      "Data columns (total 20 columns):\n",
      " #   Column                        Non-Null Count  Dtype  \n",
      "---  ------                        --------------  -----  \n",
      " 0   id                            13608 non-null  int64  \n",
      " 1   title                         13608 non-null  object \n",
      " 2   url                           13608 non-null  object \n",
      " 3   is_paid                       13608 non-null  bool   \n",
      " 4   num_subscribers               13608 non-null  int64  \n",
      " 5   avg_rating                    13608 non-null  float64\n",
      " 6   avg_rating_recent             13608 non-null  float64\n",
      " 7   rating                        13608 non-null  float64\n",
      " 8   num_reviews                   13608 non-null  int64  \n",
      " 9   is_wishlisted                 13608 non-null  bool   \n",
      " 10  num_published_lectures        13608 non-null  int64  \n",
      " 11  num_published_practice_tests  13608 non-null  int64  \n",
      " 12  created                       13608 non-null  object \n",
      " 13  published_time                13608 non-null  object \n",
      " 14  discount_price__amount        12205 non-null  float64\n",
      " 15  discount_price__currency      12205 non-null  object \n",
      " 16  discount_price__price_string  12205 non-null  object \n",
      " 17  price_detail__amount          13111 non-null  float64\n",
      " 18  price_detail__currency        13111 non-null  object \n",
      " 19  price_detail__price_string    13111 non-null  object \n",
      "dtypes: bool(2), float64(5), int64(5), object(8)\n",
      "memory usage: 1.9+ MB\n"
     ]
    }
   ],
   "source": [
    "udemy.info()"
   ]
  },
  {
   "cell_type": "code",
   "execution_count": 9,
   "id": "efd57747",
   "metadata": {},
   "outputs": [
    {
     "data": {
      "text/plain": [
       "id                                 0\n",
       "title                              0\n",
       "url                                0\n",
       "is_paid                            0\n",
       "num_subscribers                    0\n",
       "avg_rating                         0\n",
       "avg_rating_recent                  0\n",
       "rating                             0\n",
       "num_reviews                        0\n",
       "is_wishlisted                      0\n",
       "num_published_lectures             0\n",
       "num_published_practice_tests       0\n",
       "created                            0\n",
       "published_time                     0\n",
       "discount_price__amount          1403\n",
       "discount_price__currency        1403\n",
       "discount_price__price_string    1403\n",
       "price_detail__amount             497\n",
       "price_detail__currency           497\n",
       "price_detail__price_string       497\n",
       "dtype: int64"
      ]
     },
     "execution_count": 9,
     "metadata": {},
     "output_type": "execute_result"
    }
   ],
   "source": [
    "udemy.isnull().sum()"
   ]
  },
  {
   "cell_type": "markdown",
   "id": "2fc26a7e",
   "metadata": {},
   "source": [
    "# Preprocessing"
   ]
  },
  {
   "cell_type": "code",
   "execution_count": 10,
   "id": "98e4dd32",
   "metadata": {},
   "outputs": [
    {
     "data": {
      "text/plain": [
       "Index(['id', 'title', 'url', 'is_paid', 'num_subscribers', 'avg_rating',\n",
       "       'avg_rating_recent', 'rating', 'num_reviews', 'is_wishlisted',\n",
       "       'num_published_lectures', 'num_published_practice_tests', 'created',\n",
       "       'published_time', 'discount_price__amount', 'discount_price__currency',\n",
       "       'discount_price__price_string', 'price_detail__amount',\n",
       "       'price_detail__currency', 'price_detail__price_string'],\n",
       "      dtype='object')"
      ]
     },
     "execution_count": 10,
     "metadata": {},
     "output_type": "execute_result"
    }
   ],
   "source": [
    "udemy.columns"
   ]
  },
  {
   "cell_type": "code",
   "execution_count": 11,
   "id": "5c26063c",
   "metadata": {},
   "outputs": [
    {
     "data": {
      "text/plain": [
       "13608"
      ]
     },
     "execution_count": 11,
     "metadata": {},
     "output_type": "execute_result"
    }
   ],
   "source": [
    "udemy['id'].unique().size"
   ]
  },
  {
   "cell_type": "code",
   "execution_count": 13,
   "id": "045f41ad",
   "metadata": {},
   "outputs": [
    {
     "data": {
      "text/html": [
       "<div>\n",
       "<style scoped>\n",
       "    .dataframe tbody tr th:only-of-type {\n",
       "        vertical-align: middle;\n",
       "    }\n",
       "\n",
       "    .dataframe tbody tr th {\n",
       "        vertical-align: top;\n",
       "    }\n",
       "\n",
       "    .dataframe thead th {\n",
       "        text-align: right;\n",
       "    }\n",
       "</style>\n",
       "<table border=\"1\" class=\"dataframe\">\n",
       "  <thead>\n",
       "    <tr style=\"text-align: right;\">\n",
       "      <th></th>\n",
       "      <th>id</th>\n",
       "      <th>title</th>\n",
       "      <th>url</th>\n",
       "      <th>is_paid</th>\n",
       "      <th>num_subscribers</th>\n",
       "      <th>avg_rating</th>\n",
       "      <th>avg_rating_recent</th>\n",
       "      <th>rating</th>\n",
       "      <th>num_reviews</th>\n",
       "      <th>is_wishlisted</th>\n",
       "      <th>num_published_lectures</th>\n",
       "      <th>num_published_practice_tests</th>\n",
       "      <th>created</th>\n",
       "      <th>published_time</th>\n",
       "      <th>discount_price__amount</th>\n",
       "      <th>discount_price__currency</th>\n",
       "      <th>discount_price__price_string</th>\n",
       "      <th>price_detail__amount</th>\n",
       "      <th>price_detail__currency</th>\n",
       "      <th>price_detail__price_string</th>\n",
       "    </tr>\n",
       "  </thead>\n",
       "  <tbody>\n",
       "    <tr>\n",
       "      <th>count</th>\n",
       "      <td>1.360800e+04</td>\n",
       "      <td>13608</td>\n",
       "      <td>13608</td>\n",
       "      <td>13608</td>\n",
       "      <td>13608.000000</td>\n",
       "      <td>13608.000000</td>\n",
       "      <td>13608.000000</td>\n",
       "      <td>13608.000000</td>\n",
       "      <td>13608.000000</td>\n",
       "      <td>13608</td>\n",
       "      <td>13608.000000</td>\n",
       "      <td>13608.000000</td>\n",
       "      <td>13608</td>\n",
       "      <td>13608</td>\n",
       "      <td>12205.000000</td>\n",
       "      <td>12205</td>\n",
       "      <td>12205</td>\n",
       "      <td>13111.000000</td>\n",
       "      <td>13111</td>\n",
       "      <td>13111</td>\n",
       "    </tr>\n",
       "    <tr>\n",
       "      <th>unique</th>\n",
       "      <td>NaN</td>\n",
       "      <td>13563</td>\n",
       "      <td>13608</td>\n",
       "      <td>2</td>\n",
       "      <td>NaN</td>\n",
       "      <td>NaN</td>\n",
       "      <td>NaN</td>\n",
       "      <td>NaN</td>\n",
       "      <td>NaN</td>\n",
       "      <td>1</td>\n",
       "      <td>NaN</td>\n",
       "      <td>NaN</td>\n",
       "      <td>13607</td>\n",
       "      <td>13605</td>\n",
       "      <td>NaN</td>\n",
       "      <td>1</td>\n",
       "      <td>53</td>\n",
       "      <td>NaN</td>\n",
       "      <td>1</td>\n",
       "      <td>37</td>\n",
       "    </tr>\n",
       "    <tr>\n",
       "      <th>top</th>\n",
       "      <td>NaN</td>\n",
       "      <td>Shopify Dropshipping - Scale to 7 figures with...</td>\n",
       "      <td>/course/the-complete-sql-bootcamp/</td>\n",
       "      <td>True</td>\n",
       "      <td>NaN</td>\n",
       "      <td>NaN</td>\n",
       "      <td>NaN</td>\n",
       "      <td>NaN</td>\n",
       "      <td>NaN</td>\n",
       "      <td>False</td>\n",
       "      <td>NaN</td>\n",
       "      <td>NaN</td>\n",
       "      <td>2015-09-17T20:27:07Z</td>\n",
       "      <td>2019-08-13T23:28:20Z</td>\n",
       "      <td>NaN</td>\n",
       "      <td>INR</td>\n",
       "      <td>₹455</td>\n",
       "      <td>NaN</td>\n",
       "      <td>INR</td>\n",
       "      <td>₹8,640</td>\n",
       "    </tr>\n",
       "    <tr>\n",
       "      <th>freq</th>\n",
       "      <td>NaN</td>\n",
       "      <td>2</td>\n",
       "      <td>1</td>\n",
       "      <td>13112</td>\n",
       "      <td>NaN</td>\n",
       "      <td>NaN</td>\n",
       "      <td>NaN</td>\n",
       "      <td>NaN</td>\n",
       "      <td>NaN</td>\n",
       "      <td>13608</td>\n",
       "      <td>NaN</td>\n",
       "      <td>NaN</td>\n",
       "      <td>2</td>\n",
       "      <td>2</td>\n",
       "      <td>NaN</td>\n",
       "      <td>12205</td>\n",
       "      <td>11410</td>\n",
       "      <td>NaN</td>\n",
       "      <td>13111</td>\n",
       "      <td>3213</td>\n",
       "    </tr>\n",
       "    <tr>\n",
       "      <th>mean</th>\n",
       "      <td>1.681721e+06</td>\n",
       "      <td>NaN</td>\n",
       "      <td>NaN</td>\n",
       "      <td>NaN</td>\n",
       "      <td>2847.010435</td>\n",
       "      <td>3.923293</td>\n",
       "      <td>3.912242</td>\n",
       "      <td>3.912242</td>\n",
       "      <td>243.169827</td>\n",
       "      <td>NaN</td>\n",
       "      <td>32.224794</td>\n",
       "      <td>0.110523</td>\n",
       "      <td>NaN</td>\n",
       "      <td>NaN</td>\n",
       "      <td>493.943794</td>\n",
       "      <td>NaN</td>\n",
       "      <td>NaN</td>\n",
       "      <td>4646.992602</td>\n",
       "      <td>NaN</td>\n",
       "      <td>NaN</td>\n",
       "    </tr>\n",
       "    <tr>\n",
       "      <th>std</th>\n",
       "      <td>9.539271e+05</td>\n",
       "      <td>NaN</td>\n",
       "      <td>NaN</td>\n",
       "      <td>NaN</td>\n",
       "      <td>9437.865634</td>\n",
       "      <td>1.031304</td>\n",
       "      <td>1.039237</td>\n",
       "      <td>1.039237</td>\n",
       "      <td>1580.965895</td>\n",
       "      <td>NaN</td>\n",
       "      <td>42.766911</td>\n",
       "      <td>0.623501</td>\n",
       "      <td>NaN</td>\n",
       "      <td>NaN</td>\n",
       "      <td>267.827260</td>\n",
       "      <td>NaN</td>\n",
       "      <td>NaN</td>\n",
       "      <td>3109.101019</td>\n",
       "      <td>NaN</td>\n",
       "      <td>NaN</td>\n",
       "    </tr>\n",
       "    <tr>\n",
       "      <th>min</th>\n",
       "      <td>2.762000e+03</td>\n",
       "      <td>NaN</td>\n",
       "      <td>NaN</td>\n",
       "      <td>NaN</td>\n",
       "      <td>0.000000</td>\n",
       "      <td>0.000000</td>\n",
       "      <td>0.000000</td>\n",
       "      <td>0.000000</td>\n",
       "      <td>0.000000</td>\n",
       "      <td>NaN</td>\n",
       "      <td>0.000000</td>\n",
       "      <td>0.000000</td>\n",
       "      <td>NaN</td>\n",
       "      <td>NaN</td>\n",
       "      <td>455.000000</td>\n",
       "      <td>NaN</td>\n",
       "      <td>NaN</td>\n",
       "      <td>1280.000000</td>\n",
       "      <td>NaN</td>\n",
       "      <td>NaN</td>\n",
       "    </tr>\n",
       "    <tr>\n",
       "      <th>25%</th>\n",
       "      <td>8.580862e+05</td>\n",
       "      <td>NaN</td>\n",
       "      <td>NaN</td>\n",
       "      <td>NaN</td>\n",
       "      <td>62.000000</td>\n",
       "      <td>3.800000</td>\n",
       "      <td>3.787315</td>\n",
       "      <td>3.787315</td>\n",
       "      <td>7.000000</td>\n",
       "      <td>NaN</td>\n",
       "      <td>12.000000</td>\n",
       "      <td>0.000000</td>\n",
       "      <td>NaN</td>\n",
       "      <td>NaN</td>\n",
       "      <td>455.000000</td>\n",
       "      <td>NaN</td>\n",
       "      <td>NaN</td>\n",
       "      <td>1600.000000</td>\n",
       "      <td>NaN</td>\n",
       "      <td>NaN</td>\n",
       "    </tr>\n",
       "    <tr>\n",
       "      <th>50%</th>\n",
       "      <td>1.623421e+06</td>\n",
       "      <td>NaN</td>\n",
       "      <td>NaN</td>\n",
       "      <td>NaN</td>\n",
       "      <td>533.000000</td>\n",
       "      <td>4.194440</td>\n",
       "      <td>4.181735</td>\n",
       "      <td>4.181735</td>\n",
       "      <td>24.000000</td>\n",
       "      <td>NaN</td>\n",
       "      <td>21.000000</td>\n",
       "      <td>0.000000</td>\n",
       "      <td>NaN</td>\n",
       "      <td>NaN</td>\n",
       "      <td>455.000000</td>\n",
       "      <td>NaN</td>\n",
       "      <td>NaN</td>\n",
       "      <td>3200.000000</td>\n",
       "      <td>NaN</td>\n",
       "      <td>NaN</td>\n",
       "    </tr>\n",
       "    <tr>\n",
       "      <th>75%</th>\n",
       "      <td>2.503720e+06</td>\n",
       "      <td>NaN</td>\n",
       "      <td>NaN</td>\n",
       "      <td>NaN</td>\n",
       "      <td>2279.500000</td>\n",
       "      <td>4.450000</td>\n",
       "      <td>4.452105</td>\n",
       "      <td>4.452105</td>\n",
       "      <td>87.000000</td>\n",
       "      <td>NaN</td>\n",
       "      <td>37.000000</td>\n",
       "      <td>0.000000</td>\n",
       "      <td>NaN</td>\n",
       "      <td>NaN</td>\n",
       "      <td>455.000000</td>\n",
       "      <td>NaN</td>\n",
       "      <td>NaN</td>\n",
       "      <td>8640.000000</td>\n",
       "      <td>NaN</td>\n",
       "      <td>NaN</td>\n",
       "    </tr>\n",
       "    <tr>\n",
       "      <th>max</th>\n",
       "      <td>3.486006e+06</td>\n",
       "      <td>NaN</td>\n",
       "      <td>NaN</td>\n",
       "      <td>NaN</td>\n",
       "      <td>374836.000000</td>\n",
       "      <td>5.000000</td>\n",
       "      <td>5.000000</td>\n",
       "      <td>5.000000</td>\n",
       "      <td>78006.000000</td>\n",
       "      <td>NaN</td>\n",
       "      <td>699.000000</td>\n",
       "      <td>6.000000</td>\n",
       "      <td>NaN</td>\n",
       "      <td>NaN</td>\n",
       "      <td>3200.000000</td>\n",
       "      <td>NaN</td>\n",
       "      <td>NaN</td>\n",
       "      <td>12800.000000</td>\n",
       "      <td>NaN</td>\n",
       "      <td>NaN</td>\n",
       "    </tr>\n",
       "  </tbody>\n",
       "</table>\n",
       "</div>"
      ],
      "text/plain": [
       "                  id                                              title  \\\n",
       "count   1.360800e+04                                              13608   \n",
       "unique           NaN                                              13563   \n",
       "top              NaN  Shopify Dropshipping - Scale to 7 figures with...   \n",
       "freq             NaN                                                  2   \n",
       "mean    1.681721e+06                                                NaN   \n",
       "std     9.539271e+05                                                NaN   \n",
       "min     2.762000e+03                                                NaN   \n",
       "25%     8.580862e+05                                                NaN   \n",
       "50%     1.623421e+06                                                NaN   \n",
       "75%     2.503720e+06                                                NaN   \n",
       "max     3.486006e+06                                                NaN   \n",
       "\n",
       "                                       url is_paid  num_subscribers  \\\n",
       "count                                13608   13608     13608.000000   \n",
       "unique                               13608       2              NaN   \n",
       "top     /course/the-complete-sql-bootcamp/    True              NaN   \n",
       "freq                                     1   13112              NaN   \n",
       "mean                                   NaN     NaN      2847.010435   \n",
       "std                                    NaN     NaN      9437.865634   \n",
       "min                                    NaN     NaN         0.000000   \n",
       "25%                                    NaN     NaN        62.000000   \n",
       "50%                                    NaN     NaN       533.000000   \n",
       "75%                                    NaN     NaN      2279.500000   \n",
       "max                                    NaN     NaN    374836.000000   \n",
       "\n",
       "          avg_rating  avg_rating_recent        rating   num_reviews  \\\n",
       "count   13608.000000       13608.000000  13608.000000  13608.000000   \n",
       "unique           NaN                NaN           NaN           NaN   \n",
       "top              NaN                NaN           NaN           NaN   \n",
       "freq             NaN                NaN           NaN           NaN   \n",
       "mean        3.923293           3.912242      3.912242    243.169827   \n",
       "std         1.031304           1.039237      1.039237   1580.965895   \n",
       "min         0.000000           0.000000      0.000000      0.000000   \n",
       "25%         3.800000           3.787315      3.787315      7.000000   \n",
       "50%         4.194440           4.181735      4.181735     24.000000   \n",
       "75%         4.450000           4.452105      4.452105     87.000000   \n",
       "max         5.000000           5.000000      5.000000  78006.000000   \n",
       "\n",
       "       is_wishlisted  num_published_lectures  num_published_practice_tests  \\\n",
       "count          13608            13608.000000                  13608.000000   \n",
       "unique             1                     NaN                           NaN   \n",
       "top            False                     NaN                           NaN   \n",
       "freq           13608                     NaN                           NaN   \n",
       "mean             NaN               32.224794                      0.110523   \n",
       "std              NaN               42.766911                      0.623501   \n",
       "min              NaN                0.000000                      0.000000   \n",
       "25%              NaN               12.000000                      0.000000   \n",
       "50%              NaN               21.000000                      0.000000   \n",
       "75%              NaN               37.000000                      0.000000   \n",
       "max              NaN              699.000000                      6.000000   \n",
       "\n",
       "                     created        published_time  discount_price__amount  \\\n",
       "count                  13608                 13608            12205.000000   \n",
       "unique                 13607                 13605                     NaN   \n",
       "top     2015-09-17T20:27:07Z  2019-08-13T23:28:20Z                     NaN   \n",
       "freq                       2                     2                     NaN   \n",
       "mean                     NaN                   NaN              493.943794   \n",
       "std                      NaN                   NaN              267.827260   \n",
       "min                      NaN                   NaN              455.000000   \n",
       "25%                      NaN                   NaN              455.000000   \n",
       "50%                      NaN                   NaN              455.000000   \n",
       "75%                      NaN                   NaN              455.000000   \n",
       "max                      NaN                   NaN             3200.000000   \n",
       "\n",
       "       discount_price__currency discount_price__price_string  \\\n",
       "count                     12205                        12205   \n",
       "unique                        1                           53   \n",
       "top                         INR                         ₹455   \n",
       "freq                      12205                        11410   \n",
       "mean                        NaN                          NaN   \n",
       "std                         NaN                          NaN   \n",
       "min                         NaN                          NaN   \n",
       "25%                         NaN                          NaN   \n",
       "50%                         NaN                          NaN   \n",
       "75%                         NaN                          NaN   \n",
       "max                         NaN                          NaN   \n",
       "\n",
       "        price_detail__amount price_detail__currency price_detail__price_string  \n",
       "count           13111.000000                  13111                      13111  \n",
       "unique                   NaN                      1                         37  \n",
       "top                      NaN                    INR                     ₹8,640  \n",
       "freq                     NaN                  13111                       3213  \n",
       "mean             4646.992602                    NaN                        NaN  \n",
       "std              3109.101019                    NaN                        NaN  \n",
       "min              1280.000000                    NaN                        NaN  \n",
       "25%              1600.000000                    NaN                        NaN  \n",
       "50%              3200.000000                    NaN                        NaN  \n",
       "75%              8640.000000                    NaN                        NaN  \n",
       "max             12800.000000                    NaN                        NaN  "
      ]
     },
     "execution_count": 13,
     "metadata": {},
     "output_type": "execute_result"
    }
   ],
   "source": [
    "udemy.describe(include='all')"
   ]
  },
  {
   "cell_type": "code",
   "execution_count": 14,
   "id": "971ddd5a",
   "metadata": {},
   "outputs": [],
   "source": [
    "#removing unnecassary columns\n",
    "og =udemy.copy()\n",
    "all_columns_dataset = udemy.copy()\n"
   ]
  },
  {
   "cell_type": "code",
   "execution_count": 15,
   "id": "ad399aa8",
   "metadata": {},
   "outputs": [],
   "source": [
    "udemy = udemy.drop(columns=['id','title','url','is_wishlisted','created','published_time','num_published_practice_tests'])"
   ]
  },
  {
   "cell_type": "code",
   "execution_count": 16,
   "id": "2117455d",
   "metadata": {},
   "outputs": [
    {
     "data": {
      "text/plain": [
       "Index(['is_paid', 'num_subscribers', 'avg_rating', 'avg_rating_recent',\n",
       "       'rating', 'num_reviews', 'num_published_lectures',\n",
       "       'discount_price__amount', 'discount_price__currency',\n",
       "       'discount_price__price_string', 'price_detail__amount',\n",
       "       'price_detail__currency', 'price_detail__price_string'],\n",
       "      dtype='object')"
      ]
     },
     "execution_count": 16,
     "metadata": {},
     "output_type": "execute_result"
    }
   ],
   "source": [
    "udemy.columns"
   ]
  },
  {
   "cell_type": "code",
   "execution_count": 17,
   "id": "668db6a0",
   "metadata": {},
   "outputs": [
    {
     "data": {
      "text/plain": [
       "Index(['is_paid', 'num_subscribers', 'avg_rating', 'avg_rating_recent',\n",
       "       'rating', 'num_reviews', 'num_published_lectures',\n",
       "       'discount_price__amount', 'discount_price__currency',\n",
       "       'discount_price__price_string', 'price_detail__amount',\n",
       "       'price_detail__currency', 'price_detail__price_string'],\n",
       "      dtype='object')"
      ]
     },
     "execution_count": 17,
     "metadata": {},
     "output_type": "execute_result"
    }
   ],
   "source": [
    "udemy.columns"
   ]
  },
  {
   "cell_type": "code",
   "execution_count": 18,
   "id": "91c742c6",
   "metadata": {},
   "outputs": [
    {
     "data": {
      "text/plain": [
       "(13608, 13)"
      ]
     },
     "execution_count": 18,
     "metadata": {},
     "output_type": "execute_result"
    }
   ],
   "source": [
    "udemy.shape"
   ]
  },
  {
   "cell_type": "code",
   "execution_count": 20,
   "id": "9ac9cd3c",
   "metadata": {},
   "outputs": [
    {
     "data": {
      "text/plain": [
       "5"
      ]
     },
     "execution_count": 20,
     "metadata": {},
     "output_type": "execute_result"
    }
   ],
   "source": [
    "##checking number of revies more than no of subscribers\n",
    "review_subscribers = (udemy['num_reviews'] > udemy['num_subscribers'])\n",
    "review_subscribers.sum()"
   ]
  },
  {
   "cell_type": "code",
   "execution_count": 21,
   "id": "efb27f70",
   "metadata": {},
   "outputs": [
    {
     "data": {
      "text/html": [
       "<div>\n",
       "<style scoped>\n",
       "    .dataframe tbody tr th:only-of-type {\n",
       "        vertical-align: middle;\n",
       "    }\n",
       "\n",
       "    .dataframe tbody tr th {\n",
       "        vertical-align: top;\n",
       "    }\n",
       "\n",
       "    .dataframe thead th {\n",
       "        text-align: right;\n",
       "    }\n",
       "</style>\n",
       "<table border=\"1\" class=\"dataframe\">\n",
       "  <thead>\n",
       "    <tr style=\"text-align: right;\">\n",
       "      <th></th>\n",
       "      <th>is_paid</th>\n",
       "      <th>num_subscribers</th>\n",
       "      <th>avg_rating</th>\n",
       "      <th>avg_rating_recent</th>\n",
       "      <th>rating</th>\n",
       "      <th>num_reviews</th>\n",
       "      <th>num_published_lectures</th>\n",
       "      <th>discount_price__amount</th>\n",
       "      <th>discount_price__currency</th>\n",
       "      <th>discount_price__price_string</th>\n",
       "      <th>price_detail__amount</th>\n",
       "      <th>price_detail__currency</th>\n",
       "      <th>price_detail__price_string</th>\n",
       "    </tr>\n",
       "  </thead>\n",
       "  <tbody>\n",
       "    <tr>\n",
       "      <th>10898</th>\n",
       "      <td>True</td>\n",
       "      <td>0</td>\n",
       "      <td>3.00</td>\n",
       "      <td>3.00000</td>\n",
       "      <td>3.00000</td>\n",
       "      <td>1</td>\n",
       "      <td>12</td>\n",
       "      <td>455.0</td>\n",
       "      <td>INR</td>\n",
       "      <td>₹455</td>\n",
       "      <td>1280.0</td>\n",
       "      <td>INR</td>\n",
       "      <td>₹1,280</td>\n",
       "    </tr>\n",
       "    <tr>\n",
       "      <th>10950</th>\n",
       "      <td>True</td>\n",
       "      <td>0</td>\n",
       "      <td>5.00</td>\n",
       "      <td>5.00000</td>\n",
       "      <td>5.00000</td>\n",
       "      <td>1</td>\n",
       "      <td>0</td>\n",
       "      <td>NaN</td>\n",
       "      <td>NaN</td>\n",
       "      <td>NaN</td>\n",
       "      <td>2240.0</td>\n",
       "      <td>INR</td>\n",
       "      <td>₹2,240</td>\n",
       "    </tr>\n",
       "    <tr>\n",
       "      <th>12905</th>\n",
       "      <td>True</td>\n",
       "      <td>0</td>\n",
       "      <td>2.75</td>\n",
       "      <td>3.19403</td>\n",
       "      <td>3.19403</td>\n",
       "      <td>2</td>\n",
       "      <td>0</td>\n",
       "      <td>455.0</td>\n",
       "      <td>INR</td>\n",
       "      <td>₹455</td>\n",
       "      <td>1280.0</td>\n",
       "      <td>INR</td>\n",
       "      <td>₹1,280</td>\n",
       "    </tr>\n",
       "    <tr>\n",
       "      <th>12942</th>\n",
       "      <td>True</td>\n",
       "      <td>1</td>\n",
       "      <td>2.50</td>\n",
       "      <td>2.50000</td>\n",
       "      <td>2.50000</td>\n",
       "      <td>2</td>\n",
       "      <td>8</td>\n",
       "      <td>NaN</td>\n",
       "      <td>NaN</td>\n",
       "      <td>NaN</td>\n",
       "      <td>1600.0</td>\n",
       "      <td>INR</td>\n",
       "      <td>₹1,600</td>\n",
       "    </tr>\n",
       "    <tr>\n",
       "      <th>13049</th>\n",
       "      <td>True</td>\n",
       "      <td>0</td>\n",
       "      <td>5.00</td>\n",
       "      <td>5.00000</td>\n",
       "      <td>5.00000</td>\n",
       "      <td>1</td>\n",
       "      <td>13</td>\n",
       "      <td>NaN</td>\n",
       "      <td>NaN</td>\n",
       "      <td>NaN</td>\n",
       "      <td>12800.0</td>\n",
       "      <td>INR</td>\n",
       "      <td>₹12,800</td>\n",
       "    </tr>\n",
       "  </tbody>\n",
       "</table>\n",
       "</div>"
      ],
      "text/plain": [
       "       is_paid  num_subscribers  avg_rating  avg_rating_recent   rating  \\\n",
       "10898     True                0        3.00            3.00000  3.00000   \n",
       "10950     True                0        5.00            5.00000  5.00000   \n",
       "12905     True                0        2.75            3.19403  3.19403   \n",
       "12942     True                1        2.50            2.50000  2.50000   \n",
       "13049     True                0        5.00            5.00000  5.00000   \n",
       "\n",
       "       num_reviews  num_published_lectures  discount_price__amount  \\\n",
       "10898            1                      12                   455.0   \n",
       "10950            1                       0                     NaN   \n",
       "12905            2                       0                   455.0   \n",
       "12942            2                       8                     NaN   \n",
       "13049            1                      13                     NaN   \n",
       "\n",
       "      discount_price__currency discount_price__price_string  \\\n",
       "10898                      INR                         ₹455   \n",
       "10950                      NaN                          NaN   \n",
       "12905                      INR                         ₹455   \n",
       "12942                      NaN                          NaN   \n",
       "13049                      NaN                          NaN   \n",
       "\n",
       "       price_detail__amount price_detail__currency price_detail__price_string  \n",
       "10898                1280.0                    INR                     ₹1,280  \n",
       "10950                2240.0                    INR                     ₹2,240  \n",
       "12905                1280.0                    INR                     ₹1,280  \n",
       "12942                1600.0                    INR                     ₹1,600  \n",
       "13049               12800.0                    INR                    ₹12,800  "
      ]
     },
     "execution_count": 21,
     "metadata": {},
     "output_type": "execute_result"
    }
   ],
   "source": [
    "udemy[review_subscribers]"
   ]
  },
  {
   "cell_type": "code",
   "execution_count": 22,
   "id": "1934de2e",
   "metadata": {},
   "outputs": [],
   "source": [
    "##drop invalid courses\n",
    "index_list = udemy[review_subscribers].index\n",
    "udemy = udemy.drop(index=index_list)\n",
    "all_columns_dataset = all_columns_dataset.drop(index=index_list)"
   ]
  },
  {
   "cell_type": "code",
   "execution_count": 24,
   "id": "b8704825",
   "metadata": {},
   "outputs": [
    {
     "data": {
      "text/plain": [
       "(13603, 13)"
      ]
     },
     "execution_count": 24,
     "metadata": {},
     "output_type": "execute_result"
    }
   ],
   "source": [
    "udemy.shape\n"
   ]
  },
  {
   "cell_type": "code",
   "execution_count": 26,
   "id": "2847be9d",
   "metadata": {},
   "outputs": [],
   "source": [
    "##\n",
    "udemy = udemy.reset_index(drop=True)\n",
    "all_columns_dataset = all_columns_dataset.reset_index(drop=True)\n"
   ]
  },
  {
   "cell_type": "code",
   "execution_count": 27,
   "id": "677a3fe6",
   "metadata": {},
   "outputs": [
    {
     "data": {
      "text/plain": [
       "0"
      ]
     },
     "execution_count": 27,
     "metadata": {},
     "output_type": "execute_result"
    }
   ],
   "source": [
    "##rechecking\n",
    "review_subscribers = (udemy['num_reviews'] > udemy['num_subscribers'])\n",
    "review_subscribers.sum()"
   ]
  },
  {
   "cell_type": "markdown",
   "id": "383d9365",
   "metadata": {},
   "source": [
    "# Price related features"
   ]
  },
  {
   "cell_type": "code",
   "execution_count": 28,
   "id": "3080e7f6",
   "metadata": {},
   "outputs": [
    {
     "data": {
      "text/plain": [
       "Index(['is_paid', 'num_subscribers', 'avg_rating', 'avg_rating_recent',\n",
       "       'rating', 'num_reviews', 'num_published_lectures',\n",
       "       'discount_price__amount', 'discount_price__currency',\n",
       "       'discount_price__price_string', 'price_detail__amount',\n",
       "       'price_detail__currency', 'price_detail__price_string'],\n",
       "      dtype='object')"
      ]
     },
     "execution_count": 28,
     "metadata": {},
     "output_type": "execute_result"
    }
   ],
   "source": [
    "udemy.columns"
   ]
  },
  {
   "cell_type": "code",
   "execution_count": 29,
   "id": "22d31656",
   "metadata": {},
   "outputs": [],
   "source": [
    "price_cols = ['discount_price__amount', 'discount_price__currency',\n",
    "       'discount_price__price_string', 'price_detail__amount',\n",
    "       'price_detail__currency', 'price_detail__price_string']"
   ]
  },
  {
   "cell_type": "code",
   "execution_count": 30,
   "id": "15e71dce",
   "metadata": {},
   "outputs": [
    {
     "data": {
      "text/html": [
       "<div>\n",
       "<style scoped>\n",
       "    .dataframe tbody tr th:only-of-type {\n",
       "        vertical-align: middle;\n",
       "    }\n",
       "\n",
       "    .dataframe tbody tr th {\n",
       "        vertical-align: top;\n",
       "    }\n",
       "\n",
       "    .dataframe thead th {\n",
       "        text-align: right;\n",
       "    }\n",
       "</style>\n",
       "<table border=\"1\" class=\"dataframe\">\n",
       "  <thead>\n",
       "    <tr style=\"text-align: right;\">\n",
       "      <th></th>\n",
       "      <th>discount_price__amount</th>\n",
       "      <th>discount_price__currency</th>\n",
       "      <th>discount_price__price_string</th>\n",
       "      <th>price_detail__amount</th>\n",
       "      <th>price_detail__currency</th>\n",
       "      <th>price_detail__price_string</th>\n",
       "    </tr>\n",
       "  </thead>\n",
       "  <tbody>\n",
       "    <tr>\n",
       "      <th>11877</th>\n",
       "      <td>455.0</td>\n",
       "      <td>INR</td>\n",
       "      <td>₹455</td>\n",
       "      <td>1280.0</td>\n",
       "      <td>INR</td>\n",
       "      <td>₹1,280</td>\n",
       "    </tr>\n",
       "    <tr>\n",
       "      <th>10555</th>\n",
       "      <td>455.0</td>\n",
       "      <td>INR</td>\n",
       "      <td>₹455</td>\n",
       "      <td>8320.0</td>\n",
       "      <td>INR</td>\n",
       "      <td>₹8,320</td>\n",
       "    </tr>\n",
       "    <tr>\n",
       "      <th>11893</th>\n",
       "      <td>455.0</td>\n",
       "      <td>INR</td>\n",
       "      <td>₹455</td>\n",
       "      <td>3200.0</td>\n",
       "      <td>INR</td>\n",
       "      <td>₹3,200</td>\n",
       "    </tr>\n",
       "    <tr>\n",
       "      <th>4817</th>\n",
       "      <td>455.0</td>\n",
       "      <td>INR</td>\n",
       "      <td>₹455</td>\n",
       "      <td>1280.0</td>\n",
       "      <td>INR</td>\n",
       "      <td>₹1,280</td>\n",
       "    </tr>\n",
       "    <tr>\n",
       "      <th>1165</th>\n",
       "      <td>455.0</td>\n",
       "      <td>INR</td>\n",
       "      <td>₹455</td>\n",
       "      <td>2560.0</td>\n",
       "      <td>INR</td>\n",
       "      <td>₹2,560</td>\n",
       "    </tr>\n",
       "    <tr>\n",
       "      <th>177</th>\n",
       "      <td>455.0</td>\n",
       "      <td>INR</td>\n",
       "      <td>₹455</td>\n",
       "      <td>8640.0</td>\n",
       "      <td>INR</td>\n",
       "      <td>₹8,640</td>\n",
       "    </tr>\n",
       "    <tr>\n",
       "      <th>3271</th>\n",
       "      <td>455.0</td>\n",
       "      <td>INR</td>\n",
       "      <td>₹455</td>\n",
       "      <td>1280.0</td>\n",
       "      <td>INR</td>\n",
       "      <td>₹1,280</td>\n",
       "    </tr>\n",
       "    <tr>\n",
       "      <th>13063</th>\n",
       "      <td>455.0</td>\n",
       "      <td>INR</td>\n",
       "      <td>₹455</td>\n",
       "      <td>1600.0</td>\n",
       "      <td>INR</td>\n",
       "      <td>₹1,600</td>\n",
       "    </tr>\n",
       "    <tr>\n",
       "      <th>7278</th>\n",
       "      <td>455.0</td>\n",
       "      <td>INR</td>\n",
       "      <td>₹455</td>\n",
       "      <td>3200.0</td>\n",
       "      <td>INR</td>\n",
       "      <td>₹3,200</td>\n",
       "    </tr>\n",
       "    <tr>\n",
       "      <th>8214</th>\n",
       "      <td>NaN</td>\n",
       "      <td>NaN</td>\n",
       "      <td>NaN</td>\n",
       "      <td>3200.0</td>\n",
       "      <td>INR</td>\n",
       "      <td>₹3,200</td>\n",
       "    </tr>\n",
       "  </tbody>\n",
       "</table>\n",
       "</div>"
      ],
      "text/plain": [
       "       discount_price__amount discount_price__currency  \\\n",
       "11877                   455.0                      INR   \n",
       "10555                   455.0                      INR   \n",
       "11893                   455.0                      INR   \n",
       "4817                    455.0                      INR   \n",
       "1165                    455.0                      INR   \n",
       "177                     455.0                      INR   \n",
       "3271                    455.0                      INR   \n",
       "13063                   455.0                      INR   \n",
       "7278                    455.0                      INR   \n",
       "8214                      NaN                      NaN   \n",
       "\n",
       "      discount_price__price_string  price_detail__amount  \\\n",
       "11877                         ₹455                1280.0   \n",
       "10555                         ₹455                8320.0   \n",
       "11893                         ₹455                3200.0   \n",
       "4817                          ₹455                1280.0   \n",
       "1165                          ₹455                2560.0   \n",
       "177                           ₹455                8640.0   \n",
       "3271                          ₹455                1280.0   \n",
       "13063                         ₹455                1600.0   \n",
       "7278                          ₹455                3200.0   \n",
       "8214                           NaN                3200.0   \n",
       "\n",
       "      price_detail__currency price_detail__price_string  \n",
       "11877                    INR                     ₹1,280  \n",
       "10555                    INR                     ₹8,320  \n",
       "11893                    INR                     ₹3,200  \n",
       "4817                     INR                     ₹1,280  \n",
       "1165                     INR                     ₹2,560  \n",
       "177                      INR                     ₹8,640  \n",
       "3271                     INR                     ₹1,280  \n",
       "13063                    INR                     ₹1,600  \n",
       "7278                     INR                     ₹3,200  \n",
       "8214                     INR                     ₹3,200  "
      ]
     },
     "execution_count": 30,
     "metadata": {},
     "output_type": "execute_result"
    }
   ],
   "source": [
    "##taking proce rows\n",
    "udemy[price_cols].sample(10)"
   ]
  },
  {
   "cell_type": "code",
   "execution_count": 31,
   "id": "89a3a832",
   "metadata": {},
   "outputs": [
    {
     "data": {
      "text/plain": [
       "array(['INR', nan], dtype=object)"
      ]
     },
     "execution_count": 31,
     "metadata": {},
     "output_type": "execute_result"
    }
   ],
   "source": [
    "udemy.discount_price__currency.unique()"
   ]
  },
  {
   "cell_type": "code",
   "execution_count": 32,
   "id": "2597005c",
   "metadata": {},
   "outputs": [
    {
     "data": {
      "text/plain": [
       "array([ 455.,  500.,   nan,  540.,  546.,  533.,  481.,  488.,  474.,\n",
       "        462., 2880.,  494., 1600.,  800., 2080.,  520.,  468.,  507.,\n",
       "        700.,  514.,  552.,  640., 3200.,  960., 2720., 1920., 1680.,\n",
       "        611., 2400.,  720., 1280., 2000., 2240., 3040., 2160., 1360.,\n",
       "       1760., 2480., 1120.,  760., 1520., 1440.,  480., 2320., 1200.,\n",
       "       2560., 1840., 2800., 2960.,  560., 2640., 1040.,  880., 3120.])"
      ]
     },
     "execution_count": 32,
     "metadata": {},
     "output_type": "execute_result"
    }
   ],
   "source": [
    "udemy.discount_price__amount.unique()"
   ]
  },
  {
   "cell_type": "code",
   "execution_count": 33,
   "id": "843c0fd5",
   "metadata": {},
   "outputs": [
    {
     "data": {
      "text/plain": [
       "Index(['is_paid', 'num_subscribers', 'avg_rating', 'avg_rating_recent',\n",
       "       'rating', 'num_reviews', 'num_published_lectures',\n",
       "       'discount_price__amount', 'discount_price__currency',\n",
       "       'discount_price__price_string', 'price_detail__amount',\n",
       "       'price_detail__currency', 'price_detail__price_string'],\n",
       "      dtype='object')"
      ]
     },
     "execution_count": 33,
     "metadata": {},
     "output_type": "execute_result"
    }
   ],
   "source": [
    "udemy.columns"
   ]
  },
  {
   "cell_type": "code",
   "execution_count": 34,
   "id": "f278cf94",
   "metadata": {},
   "outputs": [
    {
     "data": {
      "text/plain": [
       "['discount_price__amount',\n",
       " 'discount_price__currency',\n",
       " 'discount_price__price_string',\n",
       " 'price_detail__amount',\n",
       " 'price_detail__currency',\n",
       " 'price_detail__price_string']"
      ]
     },
     "execution_count": 34,
     "metadata": {},
     "output_type": "execute_result"
    }
   ],
   "source": [
    "price_cols"
   ]
  },
  {
   "cell_type": "code",
   "execution_count": 37,
   "id": "39666f40",
   "metadata": {},
   "outputs": [],
   "source": [
    "##drop dolumns\n",
    "udemy = udemy.drop(columns=['discount_price__price_string','price_detail__price_string','discount_price__currency','price_detail__currency'])\n",
    "\n"
   ]
  },
  {
   "cell_type": "code",
   "execution_count": 38,
   "id": "ace883d0",
   "metadata": {},
   "outputs": [
    {
     "data": {
      "text/plain": [
       "Index(['is_paid', 'num_subscribers', 'avg_rating', 'avg_rating_recent',\n",
       "       'rating', 'num_reviews', 'num_published_lectures',\n",
       "       'discount_price__amount', 'price_detail__amount'],\n",
       "      dtype='object')"
      ]
     },
     "execution_count": 38,
     "metadata": {},
     "output_type": "execute_result"
    }
   ],
   "source": [
    "udemy.columns"
   ]
  },
  {
   "cell_type": "code",
   "execution_count": 39,
   "id": "8df672df",
   "metadata": {},
   "outputs": [],
   "source": [
    "price_cols = ['discount_price__amount','price_detail__amount']"
   ]
  },
  {
   "cell_type": "code",
   "execution_count": 42,
   "id": "794119f6",
   "metadata": {},
   "outputs": [
    {
     "name": "stdout",
     "output_type": "stream",
     "text": [
      "795\n"
     ]
    }
   ],
   "source": [
    "##examine discount price amount\n",
    "series_bool_discount_price = ((udemy['discount_price__amount'] != 455) & (udemy['discount_price__amount'].notna()))\n",
    "not_455_not_na_count = series_bool_discount_price.sum()\n",
    "print(not_455_not_na_count)"
   ]
  },
  {
   "cell_type": "code",
   "execution_count": 43,
   "id": "a30fc5d8",
   "metadata": {},
   "outputs": [
    {
     "data": {
      "text/plain": [
       "5.84"
      ]
     },
     "execution_count": 43,
     "metadata": {},
     "output_type": "execute_result"
    }
   ],
   "source": [
    "##percentage\n",
    "not_455_not_na_percentage = (not_455_not_na_count/udemy['discount_price__amount'].size)*100\n",
    "np.around(not_455_not_na_percentage,2)"
   ]
  },
  {
   "cell_type": "code",
   "execution_count": 44,
   "id": "97f0ff3a",
   "metadata": {},
   "outputs": [],
   "source": [
    "#dropping discount column\n",
    "udemy = udemy.drop(columns=['discount_price__amount'])\n"
   ]
  },
  {
   "cell_type": "code",
   "execution_count": 45,
   "id": "e220de9a",
   "metadata": {},
   "outputs": [
    {
     "data": {
      "text/plain": [
       "(13603, 8)"
      ]
     },
     "execution_count": 45,
     "metadata": {},
     "output_type": "execute_result"
    }
   ],
   "source": [
    "udemy.shape"
   ]
  },
  {
   "cell_type": "code",
   "execution_count": 47,
   "id": "9c5952dc",
   "metadata": {},
   "outputs": [
    {
     "data": {
      "text/plain": [
       "array([ 8640.,  5760.,  1280.,  9280.,  2560.,  4800.,  6720.,  2240.,\n",
       "        1920., 10240.,  3200.,  8960.,  6400.,  7040.,  9600., 12800.,\n",
       "        7680.,  2880.,  4480.,  5440.,  1600.,  6080.,  3520.,  8320.,\n",
       "        7360.,  4160.,  8000.,  3840.,  5120., 12160., 11520.,  9920.,\n",
       "       11840., 12480., 10560., 11200.,    nan, 10880.])"
      ]
     },
     "execution_count": 47,
     "metadata": {},
     "output_type": "execute_result"
    }
   ],
   "source": [
    "udemy.price_detail__amount.unique()"
   ]
  },
  {
   "cell_type": "code",
   "execution_count": 48,
   "id": "5c40a67e",
   "metadata": {},
   "outputs": [
    {
     "data": {
      "text/plain": [
       "Index(['is_paid', 'num_subscribers', 'avg_rating', 'avg_rating_recent',\n",
       "       'rating', 'num_reviews', 'num_published_lectures',\n",
       "       'price_detail__amount'],\n",
       "      dtype='object')"
      ]
     },
     "execution_count": 48,
     "metadata": {},
     "output_type": "execute_result"
    }
   ],
   "source": [
    "udemy.columns"
   ]
  },
  {
   "cell_type": "code",
   "execution_count": 49,
   "id": "d5504a0a",
   "metadata": {},
   "outputs": [],
   "source": [
    "df_price_id_paid = udemy[['price_detail__amount','is_paid']]"
   ]
  },
  {
   "cell_type": "code",
   "execution_count": 50,
   "id": "b45d6105",
   "metadata": {},
   "outputs": [
    {
     "data": {
      "text/html": [
       "<div>\n",
       "<style scoped>\n",
       "    .dataframe tbody tr th:only-of-type {\n",
       "        vertical-align: middle;\n",
       "    }\n",
       "\n",
       "    .dataframe tbody tr th {\n",
       "        vertical-align: top;\n",
       "    }\n",
       "\n",
       "    .dataframe thead th {\n",
       "        text-align: right;\n",
       "    }\n",
       "</style>\n",
       "<table border=\"1\" class=\"dataframe\">\n",
       "  <thead>\n",
       "    <tr style=\"text-align: right;\">\n",
       "      <th></th>\n",
       "      <th>price_detail__amount</th>\n",
       "      <th>is_paid</th>\n",
       "    </tr>\n",
       "  </thead>\n",
       "  <tbody>\n",
       "    <tr>\n",
       "      <th>0</th>\n",
       "      <td>8640.0</td>\n",
       "      <td>True</td>\n",
       "    </tr>\n",
       "    <tr>\n",
       "      <th>1</th>\n",
       "      <td>8640.0</td>\n",
       "      <td>True</td>\n",
       "    </tr>\n",
       "    <tr>\n",
       "      <th>2</th>\n",
       "      <td>8640.0</td>\n",
       "      <td>True</td>\n",
       "    </tr>\n",
       "    <tr>\n",
       "      <th>3</th>\n",
       "      <td>8640.0</td>\n",
       "      <td>True</td>\n",
       "    </tr>\n",
       "    <tr>\n",
       "      <th>4</th>\n",
       "      <td>8640.0</td>\n",
       "      <td>True</td>\n",
       "    </tr>\n",
       "    <tr>\n",
       "      <th>...</th>\n",
       "      <td>...</td>\n",
       "      <td>...</td>\n",
       "    </tr>\n",
       "    <tr>\n",
       "      <th>13598</th>\n",
       "      <td>NaN</td>\n",
       "      <td>False</td>\n",
       "    </tr>\n",
       "    <tr>\n",
       "      <th>13599</th>\n",
       "      <td>NaN</td>\n",
       "      <td>False</td>\n",
       "    </tr>\n",
       "    <tr>\n",
       "      <th>13600</th>\n",
       "      <td>NaN</td>\n",
       "      <td>False</td>\n",
       "    </tr>\n",
       "    <tr>\n",
       "      <th>13601</th>\n",
       "      <td>NaN</td>\n",
       "      <td>False</td>\n",
       "    </tr>\n",
       "    <tr>\n",
       "      <th>13602</th>\n",
       "      <td>NaN</td>\n",
       "      <td>True</td>\n",
       "    </tr>\n",
       "  </tbody>\n",
       "</table>\n",
       "<p>13603 rows × 2 columns</p>\n",
       "</div>"
      ],
      "text/plain": [
       "       price_detail__amount  is_paid\n",
       "0                    8640.0     True\n",
       "1                    8640.0     True\n",
       "2                    8640.0     True\n",
       "3                    8640.0     True\n",
       "4                    8640.0     True\n",
       "...                     ...      ...\n",
       "13598                   NaN    False\n",
       "13599                   NaN    False\n",
       "13600                   NaN    False\n",
       "13601                   NaN    False\n",
       "13602                   NaN     True\n",
       "\n",
       "[13603 rows x 2 columns]"
      ]
     },
     "execution_count": 50,
     "metadata": {},
     "output_type": "execute_result"
    }
   ],
   "source": [
    "df_price_id_paid"
   ]
  },
  {
   "cell_type": "code",
   "execution_count": 51,
   "id": "623bee56",
   "metadata": {},
   "outputs": [
    {
     "data": {
      "text/html": [
       "<div>\n",
       "<style scoped>\n",
       "    .dataframe tbody tr th:only-of-type {\n",
       "        vertical-align: middle;\n",
       "    }\n",
       "\n",
       "    .dataframe tbody tr th {\n",
       "        vertical-align: top;\n",
       "    }\n",
       "\n",
       "    .dataframe thead th {\n",
       "        text-align: right;\n",
       "    }\n",
       "</style>\n",
       "<table border=\"1\" class=\"dataframe\">\n",
       "  <thead>\n",
       "    <tr style=\"text-align: right;\">\n",
       "      <th></th>\n",
       "      <th>price_detail__amount</th>\n",
       "      <th>is_paid</th>\n",
       "    </tr>\n",
       "  </thead>\n",
       "  <tbody>\n",
       "    <tr>\n",
       "      <th>11618</th>\n",
       "      <td>NaN</td>\n",
       "      <td>False</td>\n",
       "    </tr>\n",
       "    <tr>\n",
       "      <th>13389</th>\n",
       "      <td>NaN</td>\n",
       "      <td>False</td>\n",
       "    </tr>\n",
       "    <tr>\n",
       "      <th>13578</th>\n",
       "      <td>NaN</td>\n",
       "      <td>False</td>\n",
       "    </tr>\n",
       "    <tr>\n",
       "      <th>11547</th>\n",
       "      <td>NaN</td>\n",
       "      <td>False</td>\n",
       "    </tr>\n",
       "    <tr>\n",
       "      <th>13466</th>\n",
       "      <td>NaN</td>\n",
       "      <td>False</td>\n",
       "    </tr>\n",
       "  </tbody>\n",
       "</table>\n",
       "</div>"
      ],
      "text/plain": [
       "       price_detail__amount  is_paid\n",
       "11618                   NaN    False\n",
       "13389                   NaN    False\n",
       "13578                   NaN    False\n",
       "11547                   NaN    False\n",
       "13466                   NaN    False"
      ]
     },
     "execution_count": 51,
     "metadata": {},
     "output_type": "execute_result"
    }
   ],
   "source": [
    "df_price_id_paid[df_price_id_paid['is_paid']==False].sample(5)"
   ]
  },
  {
   "cell_type": "code",
   "execution_count": 52,
   "id": "e41c4aee",
   "metadata": {},
   "outputs": [
    {
     "data": {
      "text/html": [
       "<div>\n",
       "<style scoped>\n",
       "    .dataframe tbody tr th:only-of-type {\n",
       "        vertical-align: middle;\n",
       "    }\n",
       "\n",
       "    .dataframe tbody tr th {\n",
       "        vertical-align: top;\n",
       "    }\n",
       "\n",
       "    .dataframe thead th {\n",
       "        text-align: right;\n",
       "    }\n",
       "</style>\n",
       "<table border=\"1\" class=\"dataframe\">\n",
       "  <thead>\n",
       "    <tr style=\"text-align: right;\">\n",
       "      <th></th>\n",
       "      <th>price_detail__amount</th>\n",
       "      <th>is_paid</th>\n",
       "    </tr>\n",
       "  </thead>\n",
       "  <tbody>\n",
       "    <tr>\n",
       "      <th>6763</th>\n",
       "      <td>3200.0</td>\n",
       "      <td>True</td>\n",
       "    </tr>\n",
       "    <tr>\n",
       "      <th>9792</th>\n",
       "      <td>1600.0</td>\n",
       "      <td>True</td>\n",
       "    </tr>\n",
       "    <tr>\n",
       "      <th>12026</th>\n",
       "      <td>4160.0</td>\n",
       "      <td>True</td>\n",
       "    </tr>\n",
       "    <tr>\n",
       "      <th>2046</th>\n",
       "      <td>1600.0</td>\n",
       "      <td>True</td>\n",
       "    </tr>\n",
       "    <tr>\n",
       "      <th>575</th>\n",
       "      <td>6080.0</td>\n",
       "      <td>True</td>\n",
       "    </tr>\n",
       "  </tbody>\n",
       "</table>\n",
       "</div>"
      ],
      "text/plain": [
       "       price_detail__amount  is_paid\n",
       "6763                 3200.0     True\n",
       "9792                 1600.0     True\n",
       "12026                4160.0     True\n",
       "2046                 1600.0     True\n",
       "575                  6080.0     True"
      ]
     },
     "execution_count": 52,
     "metadata": {},
     "output_type": "execute_result"
    }
   ],
   "source": [
    "df_price_id_paid[df_price_id_paid['is_paid']==True].sample(5)"
   ]
  },
  {
   "cell_type": "code",
   "execution_count": 54,
   "id": "757643e1",
   "metadata": {},
   "outputs": [
    {
     "data": {
      "text/plain": [
       "0"
      ]
     },
     "execution_count": 54,
     "metadata": {},
     "output_type": "execute_result"
    }
   ],
   "source": [
    "((udemy['is_paid']==False) & (udemy['price_detail__amount'].notna())).sum()\n"
   ]
  },
  {
   "cell_type": "code",
   "execution_count": 55,
   "id": "60a836ff",
   "metadata": {},
   "outputs": [
    {
     "data": {
      "text/plain": [
       "1"
      ]
     },
     "execution_count": 55,
     "metadata": {},
     "output_type": "execute_result"
    }
   ],
   "source": [
    "((udemy['is_paid']) & (udemy['price_detail__amount'].isna())).sum()"
   ]
  },
  {
   "cell_type": "code",
   "execution_count": 57,
   "id": "e92bd774",
   "metadata": {},
   "outputs": [
    {
     "data": {
      "text/html": [
       "<div>\n",
       "<style scoped>\n",
       "    .dataframe tbody tr th:only-of-type {\n",
       "        vertical-align: middle;\n",
       "    }\n",
       "\n",
       "    .dataframe tbody tr th {\n",
       "        vertical-align: top;\n",
       "    }\n",
       "\n",
       "    .dataframe thead th {\n",
       "        text-align: right;\n",
       "    }\n",
       "</style>\n",
       "<table border=\"1\" class=\"dataframe\">\n",
       "  <thead>\n",
       "    <tr style=\"text-align: right;\">\n",
       "      <th></th>\n",
       "      <th>id</th>\n",
       "      <th>title</th>\n",
       "      <th>url</th>\n",
       "      <th>is_paid</th>\n",
       "      <th>num_subscribers</th>\n",
       "      <th>avg_rating</th>\n",
       "      <th>avg_rating_recent</th>\n",
       "      <th>rating</th>\n",
       "      <th>num_reviews</th>\n",
       "      <th>is_wishlisted</th>\n",
       "      <th>num_published_lectures</th>\n",
       "      <th>num_published_practice_tests</th>\n",
       "      <th>created</th>\n",
       "      <th>published_time</th>\n",
       "      <th>discount_price__amount</th>\n",
       "      <th>discount_price__currency</th>\n",
       "      <th>discount_price__price_string</th>\n",
       "      <th>price_detail__amount</th>\n",
       "      <th>price_detail__currency</th>\n",
       "      <th>price_detail__price_string</th>\n",
       "    </tr>\n",
       "  </thead>\n",
       "  <tbody>\n",
       "    <tr>\n",
       "      <th>13602</th>\n",
       "      <td>2935720</td>\n",
       "      <td>Acabou a Previdência e agora? -  Volume 03</td>\n",
       "      <td>/course/acabou-a-previdencia-e-agora-volume-03/</td>\n",
       "      <td>True</td>\n",
       "      <td>0</td>\n",
       "      <td>0.0</td>\n",
       "      <td>0.0</td>\n",
       "      <td>0.0</td>\n",
       "      <td>0</td>\n",
       "      <td>False</td>\n",
       "      <td>14</td>\n",
       "      <td>0</td>\n",
       "      <td>2020-03-30T19:10:58Z</td>\n",
       "      <td>2020-04-02T16:33:32Z</td>\n",
       "      <td>NaN</td>\n",
       "      <td>NaN</td>\n",
       "      <td>NaN</td>\n",
       "      <td>NaN</td>\n",
       "      <td>NaN</td>\n",
       "      <td>NaN</td>\n",
       "    </tr>\n",
       "  </tbody>\n",
       "</table>\n",
       "</div>"
      ],
      "text/plain": [
       "            id                                       title  \\\n",
       "13602  2935720  Acabou a Previdência e agora? -  Volume 03   \n",
       "\n",
       "                                                   url  is_paid  \\\n",
       "13602  /course/acabou-a-previdencia-e-agora-volume-03/     True   \n",
       "\n",
       "       num_subscribers  avg_rating  avg_rating_recent  rating  num_reviews  \\\n",
       "13602                0         0.0                0.0     0.0            0   \n",
       "\n",
       "       is_wishlisted  num_published_lectures  num_published_practice_tests  \\\n",
       "13602          False                      14                             0   \n",
       "\n",
       "                    created        published_time  discount_price__amount  \\\n",
       "13602  2020-03-30T19:10:58Z  2020-04-02T16:33:32Z                     NaN   \n",
       "\n",
       "      discount_price__currency discount_price__price_string  \\\n",
       "13602                      NaN                          NaN   \n",
       "\n",
       "       price_detail__amount price_detail__currency price_detail__price_string  \n",
       "13602                   NaN                    NaN                        NaN  "
      ]
     },
     "execution_count": 57,
     "metadata": {},
     "output_type": "execute_result"
    }
   ],
   "source": [
    "all_columns_dataset[udemy['is_paid'] & udemy['price_detail__amount'].isna()]"
   ]
  },
  {
   "cell_type": "code",
   "execution_count": 58,
   "id": "40086d8e",
   "metadata": {},
   "outputs": [],
   "source": [
    "##droping\n",
    "udemy = udemy.drop(index=[13602])\n",
    "all_columns_dataset = all_columns_dataset.drop(index=[13602])"
   ]
  },
  {
   "cell_type": "code",
   "execution_count": 59,
   "id": "06b6d7f2",
   "metadata": {},
   "outputs": [],
   "source": [
    "udemy = udemy.reset_index(drop=True)\n",
    "all_columns_dataset = all_columns_dataset.reset_index(drop=True)"
   ]
  },
  {
   "cell_type": "code",
   "execution_count": 60,
   "id": "4dc5c032",
   "metadata": {},
   "outputs": [
    {
     "data": {
      "text/plain": [
       "(13602, 8)"
      ]
     },
     "execution_count": 60,
     "metadata": {},
     "output_type": "execute_result"
    }
   ],
   "source": [
    "udemy.shape"
   ]
  },
  {
   "cell_type": "code",
   "execution_count": 61,
   "id": "64fc7fa2",
   "metadata": {},
   "outputs": [],
   "source": [
    "#rename price columns\n",
    "udemy = udemy.rename(columns={'price_detail_amount':'price'})"
   ]
  },
  {
   "cell_type": "code",
   "execution_count": 63,
   "id": "7dd71303",
   "metadata": {},
   "outputs": [
    {
     "data": {
      "text/plain": [
       "Index(['is_paid', 'num_subscribers', 'avg_rating', 'avg_rating_recent',\n",
       "       'rating', 'num_reviews', 'num_published_lectures',\n",
       "       'price_detail__amount'],\n",
       "      dtype='object')"
      ]
     },
     "execution_count": 63,
     "metadata": {},
     "output_type": "execute_result"
    }
   ],
   "source": [
    "udemy.columns"
   ]
  },
  {
   "cell_type": "markdown",
   "id": "65a3a5c2",
   "metadata": {},
   "source": [
    "## EDA"
   ]
  },
  {
   "cell_type": "code",
   "execution_count": 64,
   "id": "786b7a78",
   "metadata": {},
   "outputs": [
    {
     "data": {
      "text/html": [
       "<div>\n",
       "<style scoped>\n",
       "    .dataframe tbody tr th:only-of-type {\n",
       "        vertical-align: middle;\n",
       "    }\n",
       "\n",
       "    .dataframe tbody tr th {\n",
       "        vertical-align: top;\n",
       "    }\n",
       "\n",
       "    .dataframe thead th {\n",
       "        text-align: right;\n",
       "    }\n",
       "</style>\n",
       "<table border=\"1\" class=\"dataframe\">\n",
       "  <thead>\n",
       "    <tr style=\"text-align: right;\">\n",
       "      <th></th>\n",
       "      <th>is_paid</th>\n",
       "      <th>num_subscribers</th>\n",
       "      <th>avg_rating</th>\n",
       "      <th>avg_rating_recent</th>\n",
       "      <th>rating</th>\n",
       "      <th>num_reviews</th>\n",
       "      <th>num_published_lectures</th>\n",
       "      <th>price_detail__amount</th>\n",
       "    </tr>\n",
       "  </thead>\n",
       "  <tbody>\n",
       "    <tr>\n",
       "      <th>0</th>\n",
       "      <td>True</td>\n",
       "      <td>295509</td>\n",
       "      <td>4.66019</td>\n",
       "      <td>4.67874</td>\n",
       "      <td>4.67874</td>\n",
       "      <td>78006</td>\n",
       "      <td>84</td>\n",
       "      <td>8640.0</td>\n",
       "    </tr>\n",
       "    <tr>\n",
       "      <th>1</th>\n",
       "      <td>True</td>\n",
       "      <td>209070</td>\n",
       "      <td>4.58956</td>\n",
       "      <td>4.60015</td>\n",
       "      <td>4.60015</td>\n",
       "      <td>54581</td>\n",
       "      <td>78</td>\n",
       "      <td>8640.0</td>\n",
       "    </tr>\n",
       "    <tr>\n",
       "      <th>2</th>\n",
       "      <td>True</td>\n",
       "      <td>155282</td>\n",
       "      <td>4.59491</td>\n",
       "      <td>4.59326</td>\n",
       "      <td>4.59326</td>\n",
       "      <td>52653</td>\n",
       "      <td>292</td>\n",
       "      <td>8640.0</td>\n",
       "    </tr>\n",
       "    <tr>\n",
       "      <th>3</th>\n",
       "      <td>True</td>\n",
       "      <td>245860</td>\n",
       "      <td>4.54407</td>\n",
       "      <td>4.53772</td>\n",
       "      <td>4.53772</td>\n",
       "      <td>46447</td>\n",
       "      <td>338</td>\n",
       "      <td>8640.0</td>\n",
       "    </tr>\n",
       "    <tr>\n",
       "      <th>4</th>\n",
       "      <td>True</td>\n",
       "      <td>374836</td>\n",
       "      <td>4.47080</td>\n",
       "      <td>4.47173</td>\n",
       "      <td>4.47173</td>\n",
       "      <td>41630</td>\n",
       "      <td>83</td>\n",
       "      <td>8640.0</td>\n",
       "    </tr>\n",
       "  </tbody>\n",
       "</table>\n",
       "</div>"
      ],
      "text/plain": [
       "   is_paid  num_subscribers  avg_rating  avg_rating_recent   rating  \\\n",
       "0     True           295509     4.66019            4.67874  4.67874   \n",
       "1     True           209070     4.58956            4.60015  4.60015   \n",
       "2     True           155282     4.59491            4.59326  4.59326   \n",
       "3     True           245860     4.54407            4.53772  4.53772   \n",
       "4     True           374836     4.47080            4.47173  4.47173   \n",
       "\n",
       "   num_reviews  num_published_lectures  price_detail__amount  \n",
       "0        78006                      84                8640.0  \n",
       "1        54581                      78                8640.0  \n",
       "2        52653                     292                8640.0  \n",
       "3        46447                     338                8640.0  \n",
       "4        41630                      83                8640.0  "
      ]
     },
     "execution_count": 64,
     "metadata": {},
     "output_type": "execute_result"
    }
   ],
   "source": [
    "udemy.head()"
   ]
  },
  {
   "cell_type": "code",
   "execution_count": 67,
   "id": "e23a8066",
   "metadata": {},
   "outputs": [
    {
     "data": {
      "text/html": [
       "<div>\n",
       "<style scoped>\n",
       "    .dataframe tbody tr th:only-of-type {\n",
       "        vertical-align: middle;\n",
       "    }\n",
       "\n",
       "    .dataframe tbody tr th {\n",
       "        vertical-align: top;\n",
       "    }\n",
       "\n",
       "    .dataframe thead th {\n",
       "        text-align: right;\n",
       "    }\n",
       "</style>\n",
       "<table border=\"1\" class=\"dataframe\">\n",
       "  <thead>\n",
       "    <tr style=\"text-align: right;\">\n",
       "      <th></th>\n",
       "      <th>num_subscribers</th>\n",
       "      <th>avg_rating</th>\n",
       "      <th>avg_rating_recent</th>\n",
       "      <th>rating</th>\n",
       "      <th>num_reviews</th>\n",
       "      <th>num_published_lectures</th>\n",
       "      <th>price_detail__amount</th>\n",
       "    </tr>\n",
       "  </thead>\n",
       "  <tbody>\n",
       "    <tr>\n",
       "      <th>count</th>\n",
       "      <td>13602.000000</td>\n",
       "      <td>13602.000000</td>\n",
       "      <td>13602.000000</td>\n",
       "      <td>13602.000000</td>\n",
       "      <td>13602.000000</td>\n",
       "      <td>13602.000000</td>\n",
       "      <td>13106.000000</td>\n",
       "    </tr>\n",
       "    <tr>\n",
       "      <th>mean</th>\n",
       "      <td>2848.266211</td>\n",
       "      <td>3.923682</td>\n",
       "      <td>3.912593</td>\n",
       "      <td>3.912593</td>\n",
       "      <td>243.276577</td>\n",
       "      <td>32.235554</td>\n",
       "      <td>4647.300473</td>\n",
       "    </tr>\n",
       "    <tr>\n",
       "      <th>std</th>\n",
       "      <td>9439.757679</td>\n",
       "      <td>1.030748</td>\n",
       "      <td>1.038723</td>\n",
       "      <td>1.038723</td>\n",
       "      <td>1581.306400</td>\n",
       "      <td>42.773098</td>\n",
       "      <td>3108.415073</td>\n",
       "    </tr>\n",
       "    <tr>\n",
       "      <th>min</th>\n",
       "      <td>0.000000</td>\n",
       "      <td>0.000000</td>\n",
       "      <td>0.000000</td>\n",
       "      <td>0.000000</td>\n",
       "      <td>0.000000</td>\n",
       "      <td>0.000000</td>\n",
       "      <td>1280.000000</td>\n",
       "    </tr>\n",
       "    <tr>\n",
       "      <th>25%</th>\n",
       "      <td>62.000000</td>\n",
       "      <td>3.800000</td>\n",
       "      <td>3.788030</td>\n",
       "      <td>3.788030</td>\n",
       "      <td>7.000000</td>\n",
       "      <td>12.000000</td>\n",
       "      <td>1600.000000</td>\n",
       "    </tr>\n",
       "    <tr>\n",
       "      <th>50%</th>\n",
       "      <td>534.000000</td>\n",
       "      <td>4.194440</td>\n",
       "      <td>4.181950</td>\n",
       "      <td>4.181950</td>\n",
       "      <td>24.000000</td>\n",
       "      <td>21.000000</td>\n",
       "      <td>3200.000000</td>\n",
       "    </tr>\n",
       "    <tr>\n",
       "      <th>75%</th>\n",
       "      <td>2281.750000</td>\n",
       "      <td>4.450000</td>\n",
       "      <td>4.452095</td>\n",
       "      <td>4.452095</td>\n",
       "      <td>87.000000</td>\n",
       "      <td>37.000000</td>\n",
       "      <td>8640.000000</td>\n",
       "    </tr>\n",
       "    <tr>\n",
       "      <th>max</th>\n",
       "      <td>374836.000000</td>\n",
       "      <td>5.000000</td>\n",
       "      <td>5.000000</td>\n",
       "      <td>5.000000</td>\n",
       "      <td>78006.000000</td>\n",
       "      <td>699.000000</td>\n",
       "      <td>12800.000000</td>\n",
       "    </tr>\n",
       "  </tbody>\n",
       "</table>\n",
       "</div>"
      ],
      "text/plain": [
       "       num_subscribers    avg_rating  avg_rating_recent        rating  \\\n",
       "count     13602.000000  13602.000000       13602.000000  13602.000000   \n",
       "mean       2848.266211      3.923682           3.912593      3.912593   \n",
       "std        9439.757679      1.030748           1.038723      1.038723   \n",
       "min           0.000000      0.000000           0.000000      0.000000   \n",
       "25%          62.000000      3.800000           3.788030      3.788030   \n",
       "50%         534.000000      4.194440           4.181950      4.181950   \n",
       "75%        2281.750000      4.450000           4.452095      4.452095   \n",
       "max      374836.000000      5.000000           5.000000      5.000000   \n",
       "\n",
       "        num_reviews  num_published_lectures  price_detail__amount  \n",
       "count  13602.000000            13602.000000          13106.000000  \n",
       "mean     243.276577               32.235554           4647.300473  \n",
       "std     1581.306400               42.773098           3108.415073  \n",
       "min        0.000000                0.000000           1280.000000  \n",
       "25%        7.000000               12.000000           1600.000000  \n",
       "50%       24.000000               21.000000           3200.000000  \n",
       "75%       87.000000               37.000000           8640.000000  \n",
       "max    78006.000000              699.000000          12800.000000  "
      ]
     },
     "execution_count": 67,
     "metadata": {},
     "output_type": "execute_result"
    }
   ],
   "source": [
    "udemy.describe()"
   ]
  },
  {
   "cell_type": "code",
   "execution_count": 70,
   "id": "daef1a6a",
   "metadata": {},
   "outputs": [
    {
     "data": {
      "image/png": "[encoded data removed]",
      "text/plain": [
       "<Figure size 500x500 with 1 Axes>"
      ]
     },
     "metadata": {},
     "output_type": "display_data"
    }
   ],
   "source": [
    "##distribute of course price\n",
    "sns.displot(udemy['price_detail__amount'], kde=True)\n",
    "plt.show()"
   ]
  },
  {
   "cell_type": "code",
   "execution_count": 74,
   "id": "7e5fa354",
   "metadata": {},
   "outputs": [
    {
     "data": {
      "image/png": "[encoded data removed]",
      "text/plain": [
       "<Figure size 640x480 with 1 Axes>"
      ]
     },
     "metadata": {},
     "output_type": "display_data"
    }
   ],
   "source": [
    "#checking for outliers\n",
    "\n",
    "sns.boxplot(x=udemy['price_detail__amount'])\n",
    "plt.show()"
   ]
  },
  {
   "cell_type": "code",
   "execution_count": 78,
   "id": "2b85a66a",
   "metadata": {},
   "outputs": [
    {
     "data": {
      "image/png": "[encoded data removed]",
      "text/plain": [
       "<Figure size 640x480 with 1 Axes>"
      ]
     },
     "metadata": {},
     "output_type": "display_data"
    },
    {
     "data": {
      "image/png": "[encoded data removed]",
      "text/plain": [
       "<Figure size 500x500 with 1 Axes>"
      ]
     },
     "metadata": {},
     "output_type": "display_data"
    }
   ],
   "source": [
    "sns.displot(udemy['num_subscribers'],kde=True)\n",
    "plt.show()"
   ]
  },
  {
   "cell_type": "code",
   "execution_count": 79,
   "id": "631d4625",
   "metadata": {},
   "outputs": [
    {
     "data": {
      "image/png": "[encoded data removed]",
      "text/plain": [
       "<Figure size 500x500 with 1 Axes>"
      ]
     },
     "metadata": {},
     "output_type": "display_data"
    }
   ],
   "source": [
    "#avarage rating\n",
    "sns.displot(udemy['avg_rating'],kde=True)\n",
    "plt.show()"
   ]
  },
  {
   "cell_type": "code",
   "execution_count": 80,
   "id": "0baf7e29",
   "metadata": {},
   "outputs": [
    {
     "data": {
      "image/png": "[encoded data removed]",
      "text/plain": [
       "<Figure size 500x500 with 1 Axes>"
      ]
     },
     "metadata": {},
     "output_type": "display_data"
    }
   ],
   "source": [
    "sns.displot(udemy['avg_rating_recent'],kde=True)\n",
    "plt.show()"
   ]
  },
  {
   "cell_type": "code",
   "execution_count": 81,
   "id": "01f5fac9",
   "metadata": {},
   "outputs": [
    {
     "data": {
      "image/png": "[encoded data removed]",
      "text/plain": [
       "<Figure size 500x500 with 1 Axes>"
      ]
     },
     "metadata": {},
     "output_type": "display_data"
    }
   ],
   "source": [
    "sns.displot(udemy['rating'],kde=True)\n",
    "plt.show()"
   ]
  },
  {
   "cell_type": "code",
   "execution_count": 82,
   "id": "666b001b",
   "metadata": {},
   "outputs": [
    {
     "data": {
      "image/png": "[encoded data removed]",
      "text/plain": [
       "<Figure size 500x500 with 1 Axes>"
      ]
     },
     "metadata": {},
     "output_type": "display_data"
    }
   ],
   "source": [
    "#distributionof number of reviews\n",
    "sns.displot(udemy['num_reviews'],kde=True)\n",
    "plt.show()"
   ]
  },
  {
   "cell_type": "code",
   "execution_count": 83,
   "id": "ff0618b6",
   "metadata": {},
   "outputs": [
    {
     "data": {
      "text/html": [
       "<div>\n",
       "<style scoped>\n",
       "    .dataframe tbody tr th:only-of-type {\n",
       "        vertical-align: middle;\n",
       "    }\n",
       "\n",
       "    .dataframe tbody tr th {\n",
       "        vertical-align: top;\n",
       "    }\n",
       "\n",
       "    .dataframe thead th {\n",
       "        text-align: right;\n",
       "    }\n",
       "</style>\n",
       "<table border=\"1\" class=\"dataframe\">\n",
       "  <thead>\n",
       "    <tr style=\"text-align: right;\">\n",
       "      <th></th>\n",
       "      <th>num_reviews</th>\n",
       "    </tr>\n",
       "  </thead>\n",
       "  <tbody>\n",
       "    <tr>\n",
       "      <th>count</th>\n",
       "      <td>13602.000000</td>\n",
       "    </tr>\n",
       "    <tr>\n",
       "      <th>mean</th>\n",
       "      <td>243.276577</td>\n",
       "    </tr>\n",
       "    <tr>\n",
       "      <th>std</th>\n",
       "      <td>1581.306400</td>\n",
       "    </tr>\n",
       "    <tr>\n",
       "      <th>min</th>\n",
       "      <td>0.000000</td>\n",
       "    </tr>\n",
       "    <tr>\n",
       "      <th>25%</th>\n",
       "      <td>7.000000</td>\n",
       "    </tr>\n",
       "    <tr>\n",
       "      <th>50%</th>\n",
       "      <td>24.000000</td>\n",
       "    </tr>\n",
       "    <tr>\n",
       "      <th>75%</th>\n",
       "      <td>87.000000</td>\n",
       "    </tr>\n",
       "    <tr>\n",
       "      <th>max</th>\n",
       "      <td>78006.000000</td>\n",
       "    </tr>\n",
       "  </tbody>\n",
       "</table>\n",
       "</div>"
      ],
      "text/plain": [
       "        num_reviews\n",
       "count  13602.000000\n",
       "mean     243.276577\n",
       "std     1581.306400\n",
       "min        0.000000\n",
       "25%        7.000000\n",
       "50%       24.000000\n",
       "75%       87.000000\n",
       "max    78006.000000"
      ]
     },
     "execution_count": 83,
     "metadata": {},
     "output_type": "execute_result"
    }
   ],
   "source": [
    "udemy[['num_reviews']].describe()"
   ]
  },
  {
   "cell_type": "code",
   "execution_count": 84,
   "id": "f24ab2c7",
   "metadata": {},
   "outputs": [
    {
     "data": {
      "image/png": "[encoded data removed]",
      "text/plain": [
       "<Figure size 500x500 with 1 Axes>"
      ]
     },
     "metadata": {},
     "output_type": "display_data"
    }
   ],
   "source": [
    "sns.displot(udemy['num_published_lectures'],kde=True)\n",
    "plt.show()"
   ]
  },
  {
   "cell_type": "code",
   "execution_count": 85,
   "id": "ac4d94ec",
   "metadata": {},
   "outputs": [
    {
     "data": {
      "text/html": [
       "<div>\n",
       "<style scoped>\n",
       "    .dataframe tbody tr th:only-of-type {\n",
       "        vertical-align: middle;\n",
       "    }\n",
       "\n",
       "    .dataframe tbody tr th {\n",
       "        vertical-align: top;\n",
       "    }\n",
       "\n",
       "    .dataframe thead th {\n",
       "        text-align: right;\n",
       "    }\n",
       "</style>\n",
       "<table border=\"1\" class=\"dataframe\">\n",
       "  <thead>\n",
       "    <tr style=\"text-align: right;\">\n",
       "      <th></th>\n",
       "      <th>avg_rating</th>\n",
       "      <th>avg_rating_recent</th>\n",
       "      <th>rating</th>\n",
       "    </tr>\n",
       "  </thead>\n",
       "  <tbody>\n",
       "    <tr>\n",
       "      <th>8144</th>\n",
       "      <td>3.71429</td>\n",
       "      <td>3.53033</td>\n",
       "      <td>3.53033</td>\n",
       "    </tr>\n",
       "    <tr>\n",
       "      <th>3987</th>\n",
       "      <td>3.75000</td>\n",
       "      <td>3.77297</td>\n",
       "      <td>3.77297</td>\n",
       "    </tr>\n",
       "    <tr>\n",
       "      <th>1153</th>\n",
       "      <td>4.64754</td>\n",
       "      <td>4.68574</td>\n",
       "      <td>4.68574</td>\n",
       "    </tr>\n",
       "    <tr>\n",
       "      <th>7687</th>\n",
       "      <td>4.16667</td>\n",
       "      <td>4.26048</td>\n",
       "      <td>4.26048</td>\n",
       "    </tr>\n",
       "    <tr>\n",
       "      <th>8973</th>\n",
       "      <td>3.87500</td>\n",
       "      <td>3.83588</td>\n",
       "      <td>3.83588</td>\n",
       "    </tr>\n",
       "    <tr>\n",
       "      <th>8209</th>\n",
       "      <td>4.50000</td>\n",
       "      <td>4.72224</td>\n",
       "      <td>4.72224</td>\n",
       "    </tr>\n",
       "    <tr>\n",
       "      <th>13428</th>\n",
       "      <td>4.25000</td>\n",
       "      <td>4.40651</td>\n",
       "      <td>4.40651</td>\n",
       "    </tr>\n",
       "    <tr>\n",
       "      <th>7096</th>\n",
       "      <td>4.00000</td>\n",
       "      <td>4.00118</td>\n",
       "      <td>4.00118</td>\n",
       "    </tr>\n",
       "    <tr>\n",
       "      <th>11318</th>\n",
       "      <td>0.00000</td>\n",
       "      <td>0.00000</td>\n",
       "      <td>0.00000</td>\n",
       "    </tr>\n",
       "    <tr>\n",
       "      <th>1639</th>\n",
       "      <td>4.20139</td>\n",
       "      <td>4.18009</td>\n",
       "      <td>4.18009</td>\n",
       "    </tr>\n",
       "  </tbody>\n",
       "</table>\n",
       "</div>"
      ],
      "text/plain": [
       "       avg_rating  avg_rating_recent   rating\n",
       "8144      3.71429            3.53033  3.53033\n",
       "3987      3.75000            3.77297  3.77297\n",
       "1153      4.64754            4.68574  4.68574\n",
       "7687      4.16667            4.26048  4.26048\n",
       "8973      3.87500            3.83588  3.83588\n",
       "8209      4.50000            4.72224  4.72224\n",
       "13428     4.25000            4.40651  4.40651\n",
       "7096      4.00000            4.00118  4.00118\n",
       "11318     0.00000            0.00000  0.00000\n",
       "1639      4.20139            4.18009  4.18009"
      ]
     },
     "execution_count": 85,
     "metadata": {},
     "output_type": "execute_result"
    }
   ],
   "source": [
    "udemy[['avg_rating','avg_rating_recent','rating']].sample(10)\n"
   ]
  },
  {
   "cell_type": "code",
   "execution_count": 86,
   "id": "942e9bc4",
   "metadata": {},
   "outputs": [
    {
     "data": {
      "text/plain": [
       "(13602, 8)"
      ]
     },
     "execution_count": 86,
     "metadata": {},
     "output_type": "execute_result"
    }
   ],
   "source": [
    "udemy.shape"
   ]
  },
  {
   "cell_type": "code",
   "execution_count": 87,
   "id": "d2be60e5",
   "metadata": {},
   "outputs": [],
   "source": [
    "udemy = udemy.drop(columns=['rating'])"
   ]
  },
  {
   "cell_type": "code",
   "execution_count": 88,
   "id": "52962ecc",
   "metadata": {},
   "outputs": [
    {
     "data": {
      "text/plain": [
       "(13602, 7)"
      ]
     },
     "execution_count": 88,
     "metadata": {},
     "output_type": "execute_result"
    }
   ],
   "source": [
    "udemy.shape\n"
   ]
  },
  {
   "cell_type": "code",
   "execution_count": 89,
   "id": "d0de4cfa",
   "metadata": {},
   "outputs": [],
   "source": [
    "from scipy import stats"
   ]
  },
  {
   "cell_type": "code",
   "execution_count": 90,
   "id": "b9c38678",
   "metadata": {},
   "outputs": [
    {
     "data": {
      "text/plain": [
       "0.99"
      ]
     },
     "execution_count": 90,
     "metadata": {},
     "output_type": "execute_result"
    }
   ],
   "source": [
    "##correlation\n",
    "correlation_coefficient = stats.pearsonr(udemy['avg_rating'],udemy['avg_rating_recent'])[0]\n",
    "np.round(correlation_coefficient,2)"
   ]
  },
  {
   "cell_type": "code",
   "execution_count": 91,
   "id": "365a724e",
   "metadata": {},
   "outputs": [],
   "source": [
    "#droping column\n",
    "udemy = udemy.drop(columns=['avg_rating_recent'])"
   ]
  },
  {
   "cell_type": "code",
   "execution_count": 92,
   "id": "151af506",
   "metadata": {},
   "outputs": [
    {
     "data": {
      "text/plain": [
       "(13602, 6)"
      ]
     },
     "execution_count": 92,
     "metadata": {},
     "output_type": "execute_result"
    }
   ],
   "source": [
    "udemy.shape"
   ]
  },
  {
   "cell_type": "code",
   "execution_count": 94,
   "id": "7ce746e5",
   "metadata": {},
   "outputs": [
    {
     "name": "stdout",
     "output_type": "stream",
     "text": [
      "<class 'pandas.core.frame.DataFrame'>\n",
      "RangeIndex: 13602 entries, 0 to 13601\n",
      "Data columns (total 6 columns):\n",
      " #   Column                  Non-Null Count  Dtype  \n",
      "---  ------                  --------------  -----  \n",
      " 0   is_paid                 13602 non-null  bool   \n",
      " 1   num_subscribers         13602 non-null  int64  \n",
      " 2   avg_rating              13602 non-null  float64\n",
      " 3   num_reviews             13602 non-null  int64  \n",
      " 4   num_published_lectures  13602 non-null  int64  \n",
      " 5   price_detail__amount    13106 non-null  float64\n",
      "dtypes: bool(1), float64(2), int64(3)\n",
      "memory usage: 544.7 KB\n"
     ]
    }
   ],
   "source": [
    "udemy.info()"
   ]
  },
  {
   "cell_type": "code",
   "execution_count": 95,
   "id": "d73afac6",
   "metadata": {},
   "outputs": [
    {
     "data": {
      "text/html": [
       "<div>\n",
       "<style scoped>\n",
       "    .dataframe tbody tr th:only-of-type {\n",
       "        vertical-align: middle;\n",
       "    }\n",
       "\n",
       "    .dataframe tbody tr th {\n",
       "        vertical-align: top;\n",
       "    }\n",
       "\n",
       "    .dataframe thead th {\n",
       "        text-align: right;\n",
       "    }\n",
       "</style>\n",
       "<table border=\"1\" class=\"dataframe\">\n",
       "  <thead>\n",
       "    <tr style=\"text-align: right;\">\n",
       "      <th></th>\n",
       "      <th>num_subscribers</th>\n",
       "      <th>avg_rating</th>\n",
       "      <th>num_reviews</th>\n",
       "      <th>num_published_lectures</th>\n",
       "      <th>price_detail__amount</th>\n",
       "    </tr>\n",
       "  </thead>\n",
       "  <tbody>\n",
       "    <tr>\n",
       "      <th>0</th>\n",
       "      <td>295509</td>\n",
       "      <td>4.66019</td>\n",
       "      <td>78006</td>\n",
       "      <td>84</td>\n",
       "      <td>8640.0</td>\n",
       "    </tr>\n",
       "    <tr>\n",
       "      <th>1</th>\n",
       "      <td>209070</td>\n",
       "      <td>4.58956</td>\n",
       "      <td>54581</td>\n",
       "      <td>78</td>\n",
       "      <td>8640.0</td>\n",
       "    </tr>\n",
       "    <tr>\n",
       "      <th>2</th>\n",
       "      <td>155282</td>\n",
       "      <td>4.59491</td>\n",
       "      <td>52653</td>\n",
       "      <td>292</td>\n",
       "      <td>8640.0</td>\n",
       "    </tr>\n",
       "    <tr>\n",
       "      <th>3</th>\n",
       "      <td>245860</td>\n",
       "      <td>4.54407</td>\n",
       "      <td>46447</td>\n",
       "      <td>338</td>\n",
       "      <td>8640.0</td>\n",
       "    </tr>\n",
       "    <tr>\n",
       "      <th>4</th>\n",
       "      <td>374836</td>\n",
       "      <td>4.47080</td>\n",
       "      <td>41630</td>\n",
       "      <td>83</td>\n",
       "      <td>8640.0</td>\n",
       "    </tr>\n",
       "    <tr>\n",
       "      <th>...</th>\n",
       "      <td>...</td>\n",
       "      <td>...</td>\n",
       "      <td>...</td>\n",
       "      <td>...</td>\n",
       "      <td>...</td>\n",
       "    </tr>\n",
       "    <tr>\n",
       "      <th>13597</th>\n",
       "      <td>19</td>\n",
       "      <td>0.00000</td>\n",
       "      <td>0</td>\n",
       "      <td>20</td>\n",
       "      <td>NaN</td>\n",
       "    </tr>\n",
       "    <tr>\n",
       "      <th>13598</th>\n",
       "      <td>47</td>\n",
       "      <td>0.00000</td>\n",
       "      <td>0</td>\n",
       "      <td>6</td>\n",
       "      <td>NaN</td>\n",
       "    </tr>\n",
       "    <tr>\n",
       "      <th>13599</th>\n",
       "      <td>19</td>\n",
       "      <td>0.00000</td>\n",
       "      <td>0</td>\n",
       "      <td>5</td>\n",
       "      <td>NaN</td>\n",
       "    </tr>\n",
       "    <tr>\n",
       "      <th>13600</th>\n",
       "      <td>47</td>\n",
       "      <td>0.00000</td>\n",
       "      <td>0</td>\n",
       "      <td>5</td>\n",
       "      <td>NaN</td>\n",
       "    </tr>\n",
       "    <tr>\n",
       "      <th>13601</th>\n",
       "      <td>48</td>\n",
       "      <td>0.00000</td>\n",
       "      <td>0</td>\n",
       "      <td>13</td>\n",
       "      <td>NaN</td>\n",
       "    </tr>\n",
       "  </tbody>\n",
       "</table>\n",
       "<p>13602 rows × 5 columns</p>\n",
       "</div>"
      ],
      "text/plain": [
       "       num_subscribers  avg_rating  num_reviews  num_published_lectures  \\\n",
       "0               295509     4.66019        78006                      84   \n",
       "1               209070     4.58956        54581                      78   \n",
       "2               155282     4.59491        52653                     292   \n",
       "3               245860     4.54407        46447                     338   \n",
       "4               374836     4.47080        41630                      83   \n",
       "...                ...         ...          ...                     ...   \n",
       "13597               19     0.00000            0                      20   \n",
       "13598               47     0.00000            0                       6   \n",
       "13599               19     0.00000            0                       5   \n",
       "13600               47     0.00000            0                       5   \n",
       "13601               48     0.00000            0                      13   \n",
       "\n",
       "       price_detail__amount  \n",
       "0                    8640.0  \n",
       "1                    8640.0  \n",
       "2                    8640.0  \n",
       "3                    8640.0  \n",
       "4                    8640.0  \n",
       "...                     ...  \n",
       "13597                   NaN  \n",
       "13598                   NaN  \n",
       "13599                   NaN  \n",
       "13600                   NaN  \n",
       "13601                   NaN  \n",
       "\n",
       "[13602 rows x 5 columns]"
      ]
     },
     "execution_count": 95,
     "metadata": {},
     "output_type": "execute_result"
    }
   ],
   "source": [
    "udemy[['num_subscribers','avg_rating','num_reviews','num_published_lectures','price_detail__amount']]"
   ]
  },
  {
   "cell_type": "code",
   "execution_count": 96,
   "id": "d2f17893",
   "metadata": {},
   "outputs": [
    {
     "data": {
      "image/png": "[encoded data removed]",
      "text/plain": [
       "<Figure size 640x480 with 1 Axes>"
      ]
     },
     "metadata": {},
     "output_type": "display_data"
    }
   ],
   "source": [
    "#ploting sub and review\n",
    "plt.scatter(udemy['num_subscribers'],udemy['num_reviews'],c = udemy['is_paid'].astype('category').cat.codes,cmap='Dark2')\n",
    "plt.xlabel('Number of Subscribers')\n",
    "plt.ylabel('Number of Revies')\n",
    "plt.xticks(rotation=45)\n",
    "plt.show()"
   ]
  },
  {
   "cell_type": "code",
   "execution_count": 99,
   "id": "a5d33613",
   "metadata": {},
   "outputs": [],
   "source": [
    "udemy['price_detail__amount'] = udemy['price_detail__amount'].fillna(0)"
   ]
  },
  {
   "cell_type": "code",
   "execution_count": 100,
   "id": "f1732675",
   "metadata": {},
   "outputs": [
    {
     "data": {
      "text/plain": [
       "0"
      ]
     },
     "execution_count": 100,
     "metadata": {},
     "output_type": "execute_result"
    }
   ],
   "source": [
    "udemy['price_detail__amount'].isnull().sum()"
   ]
  },
  {
   "cell_type": "code",
   "execution_count": 102,
   "id": "f25d7fb3",
   "metadata": {},
   "outputs": [
    {
     "data": {
      "text/html": [
       "<div>\n",
       "<style scoped>\n",
       "    .dataframe tbody tr th:only-of-type {\n",
       "        vertical-align: middle;\n",
       "    }\n",
       "\n",
       "    .dataframe tbody tr th {\n",
       "        vertical-align: top;\n",
       "    }\n",
       "\n",
       "    .dataframe thead th {\n",
       "        text-align: right;\n",
       "    }\n",
       "</style>\n",
       "<table border=\"1\" class=\"dataframe\">\n",
       "  <thead>\n",
       "    <tr style=\"text-align: right;\">\n",
       "      <th></th>\n",
       "      <th>id</th>\n",
       "      <th>title</th>\n",
       "      <th>url</th>\n",
       "      <th>is_paid</th>\n",
       "      <th>num_subscribers</th>\n",
       "      <th>avg_rating</th>\n",
       "      <th>avg_rating_recent</th>\n",
       "      <th>rating</th>\n",
       "      <th>num_reviews</th>\n",
       "      <th>is_wishlisted</th>\n",
       "      <th>num_published_lectures</th>\n",
       "      <th>num_published_practice_tests</th>\n",
       "      <th>created</th>\n",
       "      <th>published_time</th>\n",
       "      <th>discount_price__amount</th>\n",
       "      <th>discount_price__currency</th>\n",
       "      <th>discount_price__price_string</th>\n",
       "      <th>price_detail__amount</th>\n",
       "      <th>price_detail__currency</th>\n",
       "      <th>price_detail__price_string</th>\n",
       "    </tr>\n",
       "  </thead>\n",
       "  <tbody>\n",
       "    <tr>\n",
       "      <th>11482</th>\n",
       "      <td>133536</td>\n",
       "      <td>Stock Market Investing for Beginners</td>\n",
       "      <td>/course/the-beginners-guide-to-the-stock-market/</td>\n",
       "      <td>False</td>\n",
       "      <td>259888</td>\n",
       "      <td>4.34928</td>\n",
       "      <td>4.35902</td>\n",
       "      <td>4.35902</td>\n",
       "      <td>23635</td>\n",
       "      <td>False</td>\n",
       "      <td>15</td>\n",
       "      <td>0</td>\n",
       "      <td>2013-12-14T15:04:10Z</td>\n",
       "      <td>2013-12-25T19:53:34Z</td>\n",
       "      <td>NaN</td>\n",
       "      <td>NaN</td>\n",
       "      <td>NaN</td>\n",
       "      <td>NaN</td>\n",
       "      <td>NaN</td>\n",
       "      <td>NaN</td>\n",
       "    </tr>\n",
       "    <tr>\n",
       "      <th>11483</th>\n",
       "      <td>151668</td>\n",
       "      <td>Introduction to Financial Modeling</td>\n",
       "      <td>/course/financial-modeling-asimplemodel/</td>\n",
       "      <td>False</td>\n",
       "      <td>105131</td>\n",
       "      <td>4.20109</td>\n",
       "      <td>4.23170</td>\n",
       "      <td>4.23170</td>\n",
       "      <td>7378</td>\n",
       "      <td>False</td>\n",
       "      <td>8</td>\n",
       "      <td>0</td>\n",
       "      <td>2014-01-23T22:03:31Z</td>\n",
       "      <td>2014-05-27T16:22:16Z</td>\n",
       "      <td>NaN</td>\n",
       "      <td>NaN</td>\n",
       "      <td>NaN</td>\n",
       "      <td>NaN</td>\n",
       "      <td>NaN</td>\n",
       "      <td>NaN</td>\n",
       "    </tr>\n",
       "    <tr>\n",
       "      <th>11486</th>\n",
       "      <td>191854</td>\n",
       "      <td>Stock Market Foundations</td>\n",
       "      <td>/course/how-to-invest-in-the-stock-market-begi...</td>\n",
       "      <td>False</td>\n",
       "      <td>56172</td>\n",
       "      <td>4.15925</td>\n",
       "      <td>4.20690</td>\n",
       "      <td>4.20690</td>\n",
       "      <td>3083</td>\n",
       "      <td>False</td>\n",
       "      <td>9</td>\n",
       "      <td>0</td>\n",
       "      <td>2014-03-31T18:38:43Z</td>\n",
       "      <td>2014-03-31T21:35:06Z</td>\n",
       "      <td>NaN</td>\n",
       "      <td>NaN</td>\n",
       "      <td>NaN</td>\n",
       "      <td>NaN</td>\n",
       "      <td>NaN</td>\n",
       "      <td>NaN</td>\n",
       "    </tr>\n",
       "  </tbody>\n",
       "</table>\n",
       "</div>"
      ],
      "text/plain": [
       "           id                                 title  \\\n",
       "11482  133536  Stock Market Investing for Beginners   \n",
       "11483  151668    Introduction to Financial Modeling   \n",
       "11486  191854              Stock Market Foundations   \n",
       "\n",
       "                                                     url  is_paid  \\\n",
       "11482   /course/the-beginners-guide-to-the-stock-market/    False   \n",
       "11483           /course/financial-modeling-asimplemodel/    False   \n",
       "11486  /course/how-to-invest-in-the-stock-market-begi...    False   \n",
       "\n",
       "       num_subscribers  avg_rating  avg_rating_recent   rating  num_reviews  \\\n",
       "11482           259888     4.34928            4.35902  4.35902        23635   \n",
       "11483           105131     4.20109            4.23170  4.23170         7378   \n",
       "11486            56172     4.15925            4.20690  4.20690         3083   \n",
       "\n",
       "       is_wishlisted  num_published_lectures  num_published_practice_tests  \\\n",
       "11482          False                      15                             0   \n",
       "11483          False                       8                             0   \n",
       "11486          False                       9                             0   \n",
       "\n",
       "                    created        published_time  discount_price__amount  \\\n",
       "11482  2013-12-14T15:04:10Z  2013-12-25T19:53:34Z                     NaN   \n",
       "11483  2014-01-23T22:03:31Z  2014-05-27T16:22:16Z                     NaN   \n",
       "11486  2014-03-31T18:38:43Z  2014-03-31T21:35:06Z                     NaN   \n",
       "\n",
       "      discount_price__currency discount_price__price_string  \\\n",
       "11482                      NaN                          NaN   \n",
       "11483                      NaN                          NaN   \n",
       "11486                      NaN                          NaN   \n",
       "\n",
       "       price_detail__amount price_detail__currency price_detail__price_string  \n",
       "11482                   NaN                    NaN                        NaN  \n",
       "11483                   NaN                    NaN                        NaN  \n",
       "11486                   NaN                    NaN                        NaN  "
      ]
     },
     "execution_count": 102,
     "metadata": {},
     "output_type": "execute_result"
    }
   ],
   "source": [
    "##courses which have more than 50000 subscribers\n",
    "all_columns_dataset[(udemy['num_subscribers'] >= 50000) & (udemy['price_detail__amount']==0)]"
   ]
  },
  {
   "cell_type": "code",
   "execution_count": 106,
   "id": "d8d07475",
   "metadata": {},
   "outputs": [
    {
     "name": "stdout",
     "output_type": "stream",
     "text": [
      "Index(['is_paid', 'num_subscribers', 'avg_rating', 'num_reviews',\n",
      "       'num_published_lectures', 'price_detail__amount'],\n",
      "      dtype='object')\n"
     ]
    }
   ],
   "source": [
    "print(udemy.columns)\n"
   ]
  },
  {
   "cell_type": "code",
   "execution_count": 108,
   "id": "7f587e67",
   "metadata": {},
   "outputs": [
    {
     "data": {
      "image/png": "[encoded data removed]",
      "text/plain": [
       "<Figure size 1500x1400 with 9 Axes>"
      ]
     },
     "metadata": {},
     "output_type": "display_data"
    }
   ],
   "source": [
    "fig, ((p1,p2,p3),(p4,p5,p6),(p7,p8,p9)) = plt.subplots(3, 3, figsize=(15, 14))\n",
    "\n",
    "p1.scatter(udemy['num_subscribers'], udemy['avg_rating'], \n",
    "           c=udemy['is_paid'].astype('category').cat.codes, cmap='Dark2')\n",
    "p1.set_title('Subscribers and Ratings')\n",
    "\n",
    "p2.scatter(udemy['num_subscribers'], udemy['num_published_lectures'], \n",
    "           c=udemy['is_paid'].astype('category').cat.codes, cmap='Dark2')\n",
    "p2.set_title('Subscribers and Lectures')\n",
    "\n",
    "p3.scatter(udemy['num_subscribers'], udemy['price_detail__amount'], \n",
    "           c=udemy['is_paid'].astype('category').cat.codes, cmap='Dark2')\n",
    "p3.set_title('Subscribers and price_detail__amount')\n",
    "\n",
    "p4.scatter(udemy['avg_rating'], udemy['num_reviews'], \n",
    "           c=udemy['is_paid'].astype('category').cat.codes, cmap='Dark2')\n",
    "p4.set_title('Ratings and Reviews')\n",
    "\n",
    "p5.scatter(udemy['avg_rating'], udemy['num_published_lectures'], \n",
    "           c=udemy['is_paid'].astype('category').cat.codes, cmap='Dark2')\n",
    "p5.set_title('Ratings and Lectures')\n",
    "\n",
    "p6.scatter(udemy['avg_rating'], udemy['price_detail__amount'], \n",
    "           c=udemy['is_paid'].astype('category').cat.codes, cmap='Dark2')\n",
    "p6.set_title('Ratings and price_detail__amount')\n",
    "\n",
    "p7.scatter(udemy['num_reviews'], udemy['num_published_lectures'], \n",
    "           c=udemy['is_paid'].astype('category').cat.codes, cmap='Dark2')\n",
    "p7.set_title('Reviews and Lectures')\n",
    "\n",
    "p8.scatter(udemy['num_reviews'], udemy['price_detail__amount'], \n",
    "           c=udemy['is_paid'].astype('category').cat.codes, cmap='Dark2')\n",
    "p8.set_title('Reviews and price_detail__amount')\n",
    "\n",
    "p9.scatter(udemy['num_published_lectures'], udemy['price_detail__amount'], \n",
    "           c=udemy['is_paid'].astype('category').cat.codes, cmap='Dark2')\n",
    "p9.set_title('Lectures and price_detail__amount')\n",
    "\n",
    "plt.show()"
   ]
  },
  {
   "cell_type": "code",
   "execution_count": null,
   "id": "17b99ed3",
   "metadata": {},
   "outputs": [],
   "source": []
  }
 ],
 "metadata": {
  "kernelspec": {
   "display_name": "Python 3 (ipykernel)",
   "language": "python",
   "name": "python3"
  },
  "language_info": {
   "codemirror_mode": {
    "name": "ipython",
    "version": 3
   },
   "file_extension": ".py",
   "mimetype": "text/x-python",
   "name": "python",
   "nbconvert_exporter": "python",
   "pygments_lexer": "ipython3",
   "version": "3.9.13"
  }
 },
 "nbformat": 4,
 "nbformat_minor": 5
}
